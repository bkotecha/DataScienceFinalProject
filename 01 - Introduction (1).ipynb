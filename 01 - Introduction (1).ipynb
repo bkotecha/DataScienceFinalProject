{
 "cells": [
  {
   "cell_type": "markdown",
   "metadata": {
    "collapsed": true
   },
   "source": [
    "# Stephen Curry and the Flow of Three Point Shooting\n",
    "-Bhaumik Kotecha\n",
    "\n",
    "* Why I chose to explore this data\n"
   ]
  },
  {
   "cell_type": "markdown",
   "metadata": {},
   "source": [
    "<img src=\"steph.png\">"
   ]
  },
  {
   "cell_type": "markdown",
   "metadata": {},
   "source": [
    "## Abstract"
   ]
  },
  {
   "cell_type": "markdown",
   "metadata": {},
   "source": [
    "This set of notebooks examines the relationship between the conseuctive seconds Stephen Curry is on the court and his three point shooting. The goal is to determine if there is a sweet spot of time on the court where Steph Curry shoots the highest percentage on three point field goals."
   ]
  },
  {
   "cell_type": "markdown",
   "metadata": {},
   "source": [
    "## Datasets Used"
   ]
  },
  {
   "cell_type": "markdown",
   "metadata": {},
   "source": [
    "The two primary datasets used in this analysis are: \n",
    " - Steph Curry shooting data from 2014-2015 season\n",
    " - Golden State Warriors Play by Play data for each game Curry played in"
   ]
  },
  {
   "cell_type": "markdown",
   "metadata": {},
   "source": [
    "### 02 - Data Acquisition and Cleaning"
   ]
  },
  {
   "cell_type": "markdown",
   "metadata": {},
   "source": [
    "In this notebook I obtain the necessary datasets and perform a few manipulations. The primary task is to get the number of consecutive seconds Steph Curry is on the court for any given event in a game. "
   ]
  },
  {
   "cell_type": "markdown",
   "metadata": {},
   "source": [
    "### 03 - Exploratory Data Analysis"
   ]
  },
  {
   "cell_type": "markdown",
   "metadata": {},
   "source": [
    "This notebook explores the obtained data by creating visualizations using the matplotlib and nbashots libraries."
   ]
  },
  {
   "cell_type": "markdown",
   "metadata": {},
   "source": [
    "### 04 - Modeling and Machine Learning"
   ]
  },
  {
   "cell_type": "markdown",
   "metadata": {},
   "source": [
    "In this notebook I perform a logistic regression on my dataset to observe any possible relationships between \n",
    "consecutive seconds on the court and Steph Curry's three point shooting. "
   ]
  }
 ],
 "metadata": {
  "kernelspec": {
   "display_name": "Python 2",
   "language": "python",
   "name": "python2"
  },
  "language_info": {
   "codemirror_mode": {
    "name": "ipython",
    "version": 2
   },
   "file_extension": ".py",
   "mimetype": "text/x-python",
   "name": "python",
   "nbconvert_exporter": "python",
   "pygments_lexer": "ipython2",
   "version": "2.7.11"
  }
 },
 "nbformat": 4,
 "nbformat_minor": 0
}
