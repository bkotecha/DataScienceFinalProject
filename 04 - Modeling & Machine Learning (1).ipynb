{
 "cells": [
  {
   "cell_type": "markdown",
   "metadata": {},
   "source": [
    "# Steph Curry Three Point Shooting Logistic Regression\n",
    "\n"
   ]
  },
  {
   "cell_type": "markdown",
   "metadata": {},
   "source": [
    "### Why Logistic Regression?\n",
    "\n",
    "* It is a statistical technique capable of predicting a binary outcome(shot make or miss).\n",
    "* From wikipedia: \"The binary logistic model is used to estimate the probability of a binary response based on one or more predictor\"\n",
    "* Predictors: \n",
    "  - Consecutive seconds Steph Curry has been on the court(stephConsecutiveSeconds)\n",
    "  - Quarter (PERIOD_x)\n",
    "  - Minutes remaining in quarter (MINUTES_REMAINING)\n",
    "* Target: Did the given three point attempt make or miss (SHOT_MADE_FLAG)"
   ]
  },
  {
   "cell_type": "code",
   "execution_count": 2,
   "metadata": {
    "collapsed": false
   },
   "outputs": [
    {
     "ename": "ImportError",
     "evalue": "No module named matplotlib",
     "output_type": "error",
     "traceback": [
      "\u001b[0;31m---------------------------------------------------------------------------\u001b[0m",
      "\u001b[0;31mImportError\u001b[0m                               Traceback (most recent call last)",
      "\u001b[0;32m<ipython-input-2-939e857897ec>\u001b[0m in \u001b[0;36m<module>\u001b[0;34m()\u001b[0m\n\u001b[0;32m----> 1\u001b[0;31m \u001b[0mget_ipython\u001b[0m\u001b[0;34m(\u001b[0m\u001b[0;34m)\u001b[0m\u001b[0;34m.\u001b[0m\u001b[0mmagic\u001b[0m\u001b[0;34m(\u001b[0m\u001b[0;34mu'matplotlib inline'\u001b[0m\u001b[0;34m)\u001b[0m\u001b[0;34m\u001b[0m\u001b[0m\n\u001b[0m\u001b[1;32m      2\u001b[0m \u001b[0;32mimport\u001b[0m \u001b[0mnumpy\u001b[0m \u001b[0;32mas\u001b[0m \u001b[0mnp\u001b[0m\u001b[0;34m\u001b[0m\u001b[0m\n\u001b[1;32m      3\u001b[0m \u001b[0;32mimport\u001b[0m \u001b[0mpandas\u001b[0m \u001b[0;32mas\u001b[0m \u001b[0mpd\u001b[0m\u001b[0;34m\u001b[0m\u001b[0m\n\u001b[1;32m      4\u001b[0m \u001b[0;32mimport\u001b[0m \u001b[0mstatsmodels\u001b[0m\u001b[0;34m.\u001b[0m\u001b[0mapi\u001b[0m \u001b[0;32mas\u001b[0m \u001b[0msm\u001b[0m\u001b[0;34m\u001b[0m\u001b[0m\n\u001b[1;32m      5\u001b[0m \u001b[0;32mimport\u001b[0m \u001b[0mmatplotlib\u001b[0m\u001b[0;34m.\u001b[0m\u001b[0mpyplot\u001b[0m \u001b[0;32mas\u001b[0m \u001b[0mplt\u001b[0m\u001b[0;34m\u001b[0m\u001b[0m\n",
      "\u001b[0;32m/usr/local/lib/python2.7/site-packages/IPython/core/interactiveshell.pyc\u001b[0m in \u001b[0;36mmagic\u001b[0;34m(self, arg_s)\u001b[0m\n\u001b[1;32m   2161\u001b[0m         \u001b[0mmagic_name\u001b[0m\u001b[0;34m,\u001b[0m \u001b[0m_\u001b[0m\u001b[0;34m,\u001b[0m \u001b[0mmagic_arg_s\u001b[0m \u001b[0;34m=\u001b[0m \u001b[0marg_s\u001b[0m\u001b[0;34m.\u001b[0m\u001b[0mpartition\u001b[0m\u001b[0;34m(\u001b[0m\u001b[0;34m' '\u001b[0m\u001b[0;34m)\u001b[0m\u001b[0;34m\u001b[0m\u001b[0m\n\u001b[1;32m   2162\u001b[0m         \u001b[0mmagic_name\u001b[0m \u001b[0;34m=\u001b[0m \u001b[0mmagic_name\u001b[0m\u001b[0;34m.\u001b[0m\u001b[0mlstrip\u001b[0m\u001b[0;34m(\u001b[0m\u001b[0mprefilter\u001b[0m\u001b[0;34m.\u001b[0m\u001b[0mESC_MAGIC\u001b[0m\u001b[0;34m)\u001b[0m\u001b[0;34m\u001b[0m\u001b[0m\n\u001b[0;32m-> 2163\u001b[0;31m         \u001b[0;32mreturn\u001b[0m \u001b[0mself\u001b[0m\u001b[0;34m.\u001b[0m\u001b[0mrun_line_magic\u001b[0m\u001b[0;34m(\u001b[0m\u001b[0mmagic_name\u001b[0m\u001b[0;34m,\u001b[0m \u001b[0mmagic_arg_s\u001b[0m\u001b[0;34m)\u001b[0m\u001b[0;34m\u001b[0m\u001b[0m\n\u001b[0m\u001b[1;32m   2164\u001b[0m \u001b[0;34m\u001b[0m\u001b[0m\n\u001b[1;32m   2165\u001b[0m     \u001b[0;31m#-------------------------------------------------------------------------\u001b[0m\u001b[0;34m\u001b[0m\u001b[0;34m\u001b[0m\u001b[0m\n",
      "\u001b[0;32m/usr/local/lib/python2.7/site-packages/IPython/core/interactiveshell.pyc\u001b[0m in \u001b[0;36mrun_line_magic\u001b[0;34m(self, magic_name, line)\u001b[0m\n\u001b[1;32m   2082\u001b[0m                 \u001b[0mkwargs\u001b[0m\u001b[0;34m[\u001b[0m\u001b[0;34m'local_ns'\u001b[0m\u001b[0;34m]\u001b[0m \u001b[0;34m=\u001b[0m \u001b[0msys\u001b[0m\u001b[0;34m.\u001b[0m\u001b[0m_getframe\u001b[0m\u001b[0;34m(\u001b[0m\u001b[0mstack_depth\u001b[0m\u001b[0;34m)\u001b[0m\u001b[0;34m.\u001b[0m\u001b[0mf_locals\u001b[0m\u001b[0;34m\u001b[0m\u001b[0m\n\u001b[1;32m   2083\u001b[0m             \u001b[0;32mwith\u001b[0m \u001b[0mself\u001b[0m\u001b[0;34m.\u001b[0m\u001b[0mbuiltin_trap\u001b[0m\u001b[0;34m:\u001b[0m\u001b[0;34m\u001b[0m\u001b[0m\n\u001b[0;32m-> 2084\u001b[0;31m                 \u001b[0mresult\u001b[0m \u001b[0;34m=\u001b[0m \u001b[0mfn\u001b[0m\u001b[0;34m(\u001b[0m\u001b[0;34m*\u001b[0m\u001b[0margs\u001b[0m\u001b[0;34m,\u001b[0m\u001b[0;34m**\u001b[0m\u001b[0mkwargs\u001b[0m\u001b[0;34m)\u001b[0m\u001b[0;34m\u001b[0m\u001b[0m\n\u001b[0m\u001b[1;32m   2085\u001b[0m             \u001b[0;32mreturn\u001b[0m \u001b[0mresult\u001b[0m\u001b[0;34m\u001b[0m\u001b[0m\n\u001b[1;32m   2086\u001b[0m \u001b[0;34m\u001b[0m\u001b[0m\n",
      "\u001b[0;32m<decorator-gen-106>\u001b[0m in \u001b[0;36mmatplotlib\u001b[0;34m(self, line)\u001b[0m\n",
      "\u001b[0;32m/usr/local/lib/python2.7/site-packages/IPython/core/magic.pyc\u001b[0m in \u001b[0;36m<lambda>\u001b[0;34m(f, *a, **k)\u001b[0m\n\u001b[1;32m    191\u001b[0m     \u001b[0;31m# but it's overkill for just that one bit of state.\u001b[0m\u001b[0;34m\u001b[0m\u001b[0;34m\u001b[0m\u001b[0m\n\u001b[1;32m    192\u001b[0m     \u001b[0;32mdef\u001b[0m \u001b[0mmagic_deco\u001b[0m\u001b[0;34m(\u001b[0m\u001b[0marg\u001b[0m\u001b[0;34m)\u001b[0m\u001b[0;34m:\u001b[0m\u001b[0;34m\u001b[0m\u001b[0m\n\u001b[0;32m--> 193\u001b[0;31m         \u001b[0mcall\u001b[0m \u001b[0;34m=\u001b[0m \u001b[0;32mlambda\u001b[0m \u001b[0mf\u001b[0m\u001b[0;34m,\u001b[0m \u001b[0;34m*\u001b[0m\u001b[0ma\u001b[0m\u001b[0;34m,\u001b[0m \u001b[0;34m**\u001b[0m\u001b[0mk\u001b[0m\u001b[0;34m:\u001b[0m \u001b[0mf\u001b[0m\u001b[0;34m(\u001b[0m\u001b[0;34m*\u001b[0m\u001b[0ma\u001b[0m\u001b[0;34m,\u001b[0m \u001b[0;34m**\u001b[0m\u001b[0mk\u001b[0m\u001b[0;34m)\u001b[0m\u001b[0;34m\u001b[0m\u001b[0m\n\u001b[0m\u001b[1;32m    194\u001b[0m \u001b[0;34m\u001b[0m\u001b[0m\n\u001b[1;32m    195\u001b[0m         \u001b[0;32mif\u001b[0m \u001b[0mcallable\u001b[0m\u001b[0;34m(\u001b[0m\u001b[0marg\u001b[0m\u001b[0;34m)\u001b[0m\u001b[0;34m:\u001b[0m\u001b[0;34m\u001b[0m\u001b[0m\n",
      "\u001b[0;32m/usr/local/lib/python2.7/site-packages/IPython/core/magics/pylab.pyc\u001b[0m in \u001b[0;36mmatplotlib\u001b[0;34m(self, line)\u001b[0m\n\u001b[1;32m     98\u001b[0m             \u001b[0;32mprint\u001b[0m\u001b[0;34m(\u001b[0m\u001b[0;34m\"Available matplotlib backends: %s\"\u001b[0m \u001b[0;34m%\u001b[0m \u001b[0mbackends_list\u001b[0m\u001b[0;34m)\u001b[0m\u001b[0;34m\u001b[0m\u001b[0m\n\u001b[1;32m     99\u001b[0m         \u001b[0;32melse\u001b[0m\u001b[0;34m:\u001b[0m\u001b[0;34m\u001b[0m\u001b[0m\n\u001b[0;32m--> 100\u001b[0;31m             \u001b[0mgui\u001b[0m\u001b[0;34m,\u001b[0m \u001b[0mbackend\u001b[0m \u001b[0;34m=\u001b[0m \u001b[0mself\u001b[0m\u001b[0;34m.\u001b[0m\u001b[0mshell\u001b[0m\u001b[0;34m.\u001b[0m\u001b[0menable_matplotlib\u001b[0m\u001b[0;34m(\u001b[0m\u001b[0margs\u001b[0m\u001b[0;34m.\u001b[0m\u001b[0mgui\u001b[0m\u001b[0;34m)\u001b[0m\u001b[0;34m\u001b[0m\u001b[0m\n\u001b[0m\u001b[1;32m    101\u001b[0m             \u001b[0mself\u001b[0m\u001b[0;34m.\u001b[0m\u001b[0m_show_matplotlib_backend\u001b[0m\u001b[0;34m(\u001b[0m\u001b[0margs\u001b[0m\u001b[0;34m.\u001b[0m\u001b[0mgui\u001b[0m\u001b[0;34m,\u001b[0m \u001b[0mbackend\u001b[0m\u001b[0;34m)\u001b[0m\u001b[0;34m\u001b[0m\u001b[0m\n\u001b[1;32m    102\u001b[0m \u001b[0;34m\u001b[0m\u001b[0m\n",
      "\u001b[0;32m/usr/local/lib/python2.7/site-packages/IPython/core/interactiveshell.pyc\u001b[0m in \u001b[0;36menable_matplotlib\u001b[0;34m(self, gui)\u001b[0m\n\u001b[1;32m   2937\u001b[0m         \"\"\"\n\u001b[1;32m   2938\u001b[0m         \u001b[0;32mfrom\u001b[0m \u001b[0mIPython\u001b[0m\u001b[0;34m.\u001b[0m\u001b[0mcore\u001b[0m \u001b[0;32mimport\u001b[0m \u001b[0mpylabtools\u001b[0m \u001b[0;32mas\u001b[0m \u001b[0mpt\u001b[0m\u001b[0;34m\u001b[0m\u001b[0m\n\u001b[0;32m-> 2939\u001b[0;31m         \u001b[0mgui\u001b[0m\u001b[0;34m,\u001b[0m \u001b[0mbackend\u001b[0m \u001b[0;34m=\u001b[0m \u001b[0mpt\u001b[0m\u001b[0;34m.\u001b[0m\u001b[0mfind_gui_and_backend\u001b[0m\u001b[0;34m(\u001b[0m\u001b[0mgui\u001b[0m\u001b[0;34m,\u001b[0m \u001b[0mself\u001b[0m\u001b[0;34m.\u001b[0m\u001b[0mpylab_gui_select\u001b[0m\u001b[0;34m)\u001b[0m\u001b[0;34m\u001b[0m\u001b[0m\n\u001b[0m\u001b[1;32m   2940\u001b[0m \u001b[0;34m\u001b[0m\u001b[0m\n\u001b[1;32m   2941\u001b[0m         \u001b[0;32mif\u001b[0m \u001b[0mgui\u001b[0m \u001b[0;34m!=\u001b[0m \u001b[0;34m'inline'\u001b[0m\u001b[0;34m:\u001b[0m\u001b[0;34m\u001b[0m\u001b[0m\n",
      "\u001b[0;32m/usr/local/lib/python2.7/site-packages/IPython/core/pylabtools.pyc\u001b[0m in \u001b[0;36mfind_gui_and_backend\u001b[0;34m(gui, gui_select)\u001b[0m\n\u001b[1;32m    258\u001b[0m     \"\"\"\n\u001b[1;32m    259\u001b[0m \u001b[0;34m\u001b[0m\u001b[0m\n\u001b[0;32m--> 260\u001b[0;31m     \u001b[0;32mimport\u001b[0m \u001b[0mmatplotlib\u001b[0m\u001b[0;34m\u001b[0m\u001b[0m\n\u001b[0m\u001b[1;32m    261\u001b[0m \u001b[0;34m\u001b[0m\u001b[0m\n\u001b[1;32m    262\u001b[0m     \u001b[0;32mif\u001b[0m \u001b[0mgui\u001b[0m \u001b[0;32mand\u001b[0m \u001b[0mgui\u001b[0m \u001b[0;34m!=\u001b[0m \u001b[0;34m'auto'\u001b[0m\u001b[0;34m:\u001b[0m\u001b[0;34m\u001b[0m\u001b[0m\n",
      "\u001b[0;31mImportError\u001b[0m: No module named matplotlib"
     ]
    }
   ],
   "source": [
    "%matplotlib inline\n",
    "import numpy as np\n",
    "import pandas as pd\n",
    "import statsmodels.api as sm\n",
    "import matplotlib.pyplot as plt\n",
    "from patsy import dmatrices\n",
    "import pylab as pl\n",
    "from sklearn.linear_model import LogisticRegression\n",
    "from sklearn.cross_validation import train_test_split\n",
    "from sklearn import metrics\n",
    "from sklearn.cross_validation import cross_val_score\n",
    "import nbashots as nba # this will throw a warning if using matplotlib 1.5"
   ]
  },
  {
   "cell_type": "code",
   "execution_count": 81,
   "metadata": {
    "collapsed": true
   },
   "outputs": [],
   "source": [
    "curry_threes = pd.read_csv('/data/bkotecha/threes_with_secondRanges.csv')"
   ]
  },
  {
   "cell_type": "code",
   "execution_count": 82,
   "metadata": {
    "collapsed": false
   },
   "outputs": [
    {
     "data": {
      "text/html": [
       "<div>\n",
       "<table border=\"1\" class=\"dataframe\">\n",
       "  <thead>\n",
       "    <tr style=\"text-align: right;\">\n",
       "      <th></th>\n",
       "      <th>Unnamed: 0</th>\n",
       "      <th>Unnamed: 0.1</th>\n",
       "      <th>Unnamed: 0_x</th>\n",
       "      <th>GRID_TYPE</th>\n",
       "      <th>GAME_ID</th>\n",
       "      <th>EVENTNUM</th>\n",
       "      <th>PLAYER_ID</th>\n",
       "      <th>PLAYER_NAME</th>\n",
       "      <th>TEAM_ID</th>\n",
       "      <th>TEAM_NAME</th>\n",
       "      <th>...</th>\n",
       "      <th>stephSubOut</th>\n",
       "      <th>stephSubIn</th>\n",
       "      <th>stephIn</th>\n",
       "      <th>stephOut</th>\n",
       "      <th>timeElapsedBetweenEvents</th>\n",
       "      <th>stephConsecutiveSeconds</th>\n",
       "      <th>endOfQuarter</th>\n",
       "      <th>color</th>\n",
       "      <th>shot_outcome</th>\n",
       "      <th>secondsRange</th>\n",
       "    </tr>\n",
       "  </thead>\n",
       "  <tbody>\n",
       "    <tr>\n",
       "      <th>0</th>\n",
       "      <td>1</td>\n",
       "      <td>66</td>\n",
       "      <td>2174</td>\n",
       "      <td>Shot Chart Detail</td>\n",
       "      <td>21400014</td>\n",
       "      <td>74</td>\n",
       "      <td>201939</td>\n",
       "      <td>Stephen Curry</td>\n",
       "      <td>1610612744</td>\n",
       "      <td>Golden State Warriors</td>\n",
       "      <td>...</td>\n",
       "      <td>False</td>\n",
       "      <td>False</td>\n",
       "      <td>True</td>\n",
       "      <td>False</td>\n",
       "      <td>7</td>\n",
       "      <td>411</td>\n",
       "      <td>False</td>\n",
       "      <td>orangered</td>\n",
       "      <td>MISSED</td>\n",
       "      <td>lessThan8min</td>\n",
       "    </tr>\n",
       "    <tr>\n",
       "      <th>1</th>\n",
       "      <td>4</td>\n",
       "      <td>198</td>\n",
       "      <td>2214</td>\n",
       "      <td>Shot Chart Detail</td>\n",
       "      <td>21400014</td>\n",
       "      <td>227</td>\n",
       "      <td>201939</td>\n",
       "      <td>Stephen Curry</td>\n",
       "      <td>1610612744</td>\n",
       "      <td>Golden State Warriors</td>\n",
       "      <td>...</td>\n",
       "      <td>False</td>\n",
       "      <td>False</td>\n",
       "      <td>True</td>\n",
       "      <td>False</td>\n",
       "      <td>6</td>\n",
       "      <td>205</td>\n",
       "      <td>False</td>\n",
       "      <td>orangered</td>\n",
       "      <td>MISSED</td>\n",
       "      <td>lessThan4min</td>\n",
       "    </tr>\n",
       "    <tr>\n",
       "      <th>2</th>\n",
       "      <td>7</td>\n",
       "      <td>294</td>\n",
       "      <td>2237</td>\n",
       "      <td>Shot Chart Detail</td>\n",
       "      <td>21400014</td>\n",
       "      <td>349</td>\n",
       "      <td>201939</td>\n",
       "      <td>Stephen Curry</td>\n",
       "      <td>1610612744</td>\n",
       "      <td>Golden State Warriors</td>\n",
       "      <td>...</td>\n",
       "      <td>False</td>\n",
       "      <td>False</td>\n",
       "      <td>True</td>\n",
       "      <td>False</td>\n",
       "      <td>17</td>\n",
       "      <td>102</td>\n",
       "      <td>False</td>\n",
       "      <td>orangered</td>\n",
       "      <td>MISSED</td>\n",
       "      <td>lessThan2min</td>\n",
       "    </tr>\n",
       "    <tr>\n",
       "      <th>3</th>\n",
       "      <td>8</td>\n",
       "      <td>319</td>\n",
       "      <td>2241</td>\n",
       "      <td>Shot Chart Detail</td>\n",
       "      <td>21400014</td>\n",
       "      <td>378</td>\n",
       "      <td>201939</td>\n",
       "      <td>Stephen Curry</td>\n",
       "      <td>1610612744</td>\n",
       "      <td>Golden State Warriors</td>\n",
       "      <td>...</td>\n",
       "      <td>False</td>\n",
       "      <td>False</td>\n",
       "      <td>True</td>\n",
       "      <td>False</td>\n",
       "      <td>10</td>\n",
       "      <td>238</td>\n",
       "      <td>False</td>\n",
       "      <td>orangered</td>\n",
       "      <td>MISSED</td>\n",
       "      <td>lessThan4min</td>\n",
       "    </tr>\n",
       "    <tr>\n",
       "      <th>4</th>\n",
       "      <td>9</td>\n",
       "      <td>365</td>\n",
       "      <td>2254</td>\n",
       "      <td>Shot Chart Detail</td>\n",
       "      <td>21400014</td>\n",
       "      <td>431</td>\n",
       "      <td>201939</td>\n",
       "      <td>Stephen Curry</td>\n",
       "      <td>1610612744</td>\n",
       "      <td>Golden State Warriors</td>\n",
       "      <td>...</td>\n",
       "      <td>False</td>\n",
       "      <td>False</td>\n",
       "      <td>True</td>\n",
       "      <td>False</td>\n",
       "      <td>6</td>\n",
       "      <td>454</td>\n",
       "      <td>False</td>\n",
       "      <td>cornflowerblue</td>\n",
       "      <td>MADE</td>\n",
       "      <td>lessThan8min</td>\n",
       "    </tr>\n",
       "  </tbody>\n",
       "</table>\n",
       "<p>5 rows × 67 columns</p>\n",
       "</div>"
      ],
      "text/plain": [
       "   Unnamed: 0  Unnamed: 0.1  Unnamed: 0_x          GRID_TYPE   GAME_ID  \\\n",
       "0           1            66          2174  Shot Chart Detail  21400014   \n",
       "1           4           198          2214  Shot Chart Detail  21400014   \n",
       "2           7           294          2237  Shot Chart Detail  21400014   \n",
       "3           8           319          2241  Shot Chart Detail  21400014   \n",
       "4           9           365          2254  Shot Chart Detail  21400014   \n",
       "\n",
       "   EVENTNUM  PLAYER_ID    PLAYER_NAME     TEAM_ID              TEAM_NAME  \\\n",
       "0        74     201939  Stephen Curry  1610612744  Golden State Warriors   \n",
       "1       227     201939  Stephen Curry  1610612744  Golden State Warriors   \n",
       "2       349     201939  Stephen Curry  1610612744  Golden State Warriors   \n",
       "3       378     201939  Stephen Curry  1610612744  Golden State Warriors   \n",
       "4       431     201939  Stephen Curry  1610612744  Golden State Warriors   \n",
       "\n",
       "       ...       stephSubOut  stephSubIn  stephIn stephOut  \\\n",
       "0      ...             False       False     True    False   \n",
       "1      ...             False       False     True    False   \n",
       "2      ...             False       False     True    False   \n",
       "3      ...             False       False     True    False   \n",
       "4      ...             False       False     True    False   \n",
       "\n",
       "  timeElapsedBetweenEvents stephConsecutiveSeconds endOfQuarter  \\\n",
       "0                        7                     411        False   \n",
       "1                        6                     205        False   \n",
       "2                       17                     102        False   \n",
       "3                       10                     238        False   \n",
       "4                        6                     454        False   \n",
       "\n",
       "            color shot_outcome  secondsRange  \n",
       "0       orangered       MISSED  lessThan8min  \n",
       "1       orangered       MISSED  lessThan4min  \n",
       "2       orangered       MISSED  lessThan2min  \n",
       "3       orangered       MISSED  lessThan4min  \n",
       "4  cornflowerblue         MADE  lessThan8min  \n",
       "\n",
       "[5 rows x 67 columns]"
      ]
     },
     "execution_count": 82,
     "metadata": {},
     "output_type": "execute_result"
    }
   ],
   "source": [
    "curry_threes.head()"
   ]
  },
  {
   "cell_type": "markdown",
   "metadata": {},
   "source": [
    "#### Create df w/ the columns we care about"
   ]
  },
  {
   "cell_type": "code",
   "execution_count": 83,
   "metadata": {
    "collapsed": false
   },
   "outputs": [],
   "source": [
    "clean_curry_threes = curry_threes[['PERIOD_x', 'MINUTES_REMAINING', 'stephConsecutiveSeconds', 'SHOT_MADE_FLAG']].copy()"
   ]
  },
  {
   "cell_type": "code",
   "execution_count": 84,
   "metadata": {
    "collapsed": false
   },
   "outputs": [
    {
     "data": {
      "text/html": [
       "<div>\n",
       "<table border=\"1\" class=\"dataframe\">\n",
       "  <thead>\n",
       "    <tr style=\"text-align: right;\">\n",
       "      <th></th>\n",
       "      <th>PERIOD_x</th>\n",
       "      <th>MINUTES_REMAINING</th>\n",
       "      <th>stephConsecutiveSeconds</th>\n",
       "      <th>SHOT_MADE_FLAG</th>\n",
       "    </tr>\n",
       "  </thead>\n",
       "  <tbody>\n",
       "    <tr>\n",
       "      <th>0</th>\n",
       "      <td>1</td>\n",
       "      <td>5</td>\n",
       "      <td>411</td>\n",
       "      <td>0</td>\n",
       "    </tr>\n",
       "    <tr>\n",
       "      <th>1</th>\n",
       "      <td>2</td>\n",
       "      <td>5</td>\n",
       "      <td>205</td>\n",
       "      <td>0</td>\n",
       "    </tr>\n",
       "    <tr>\n",
       "      <th>2</th>\n",
       "      <td>3</td>\n",
       "      <td>10</td>\n",
       "      <td>102</td>\n",
       "      <td>0</td>\n",
       "    </tr>\n",
       "    <tr>\n",
       "      <th>3</th>\n",
       "      <td>3</td>\n",
       "      <td>8</td>\n",
       "      <td>238</td>\n",
       "      <td>0</td>\n",
       "    </tr>\n",
       "    <tr>\n",
       "      <th>4</th>\n",
       "      <td>3</td>\n",
       "      <td>4</td>\n",
       "      <td>454</td>\n",
       "      <td>1</td>\n",
       "    </tr>\n",
       "  </tbody>\n",
       "</table>\n",
       "</div>"
      ],
      "text/plain": [
       "   PERIOD_x  MINUTES_REMAINING  stephConsecutiveSeconds  SHOT_MADE_FLAG\n",
       "0         1                  5                      411               0\n",
       "1         2                  5                      205               0\n",
       "2         3                 10                      102               0\n",
       "3         3                  8                      238               0\n",
       "4         3                  4                      454               1"
      ]
     },
     "execution_count": 84,
     "metadata": {},
     "output_type": "execute_result"
    }
   ],
   "source": [
    "clean_curry_threes.head()"
   ]
  },
  {
   "cell_type": "code",
   "execution_count": 85,
   "metadata": {
    "collapsed": false
   },
   "outputs": [
    {
     "data": {
      "text/plain": [
       "646"
      ]
     },
     "execution_count": 85,
     "metadata": {},
     "output_type": "execute_result"
    }
   ],
   "source": [
    "len(clean_curry_threes)"
   ]
  },
  {
   "cell_type": "markdown",
   "metadata": {},
   "source": [
    "### Take a look at summary statistics"
   ]
  },
  {
   "cell_type": "code",
   "execution_count": 87,
   "metadata": {
    "collapsed": false
   },
   "outputs": [
    {
     "data": {
      "text/html": [
       "<div>\n",
       "<table border=\"1\" class=\"dataframe\">\n",
       "  <thead>\n",
       "    <tr style=\"text-align: right;\">\n",
       "      <th></th>\n",
       "      <th>PERIOD_x</th>\n",
       "      <th>MINUTES_REMAINING</th>\n",
       "      <th>stephConsecutiveSeconds</th>\n",
       "    </tr>\n",
       "    <tr>\n",
       "      <th>SHOT_MADE_FLAG</th>\n",
       "      <th></th>\n",
       "      <th></th>\n",
       "      <th></th>\n",
       "    </tr>\n",
       "  </thead>\n",
       "  <tbody>\n",
       "    <tr>\n",
       "      <th>0</th>\n",
       "      <td>2.330556</td>\n",
       "      <td>4.580556</td>\n",
       "      <td>311.208333</td>\n",
       "    </tr>\n",
       "    <tr>\n",
       "      <th>1</th>\n",
       "      <td>2.311189</td>\n",
       "      <td>4.489510</td>\n",
       "      <td>321.615385</td>\n",
       "    </tr>\n",
       "  </tbody>\n",
       "</table>\n",
       "</div>"
      ],
      "text/plain": [
       "                PERIOD_x  MINUTES_REMAINING  stephConsecutiveSeconds\n",
       "SHOT_MADE_FLAG                                                      \n",
       "0               2.330556           4.580556               311.208333\n",
       "1               2.311189           4.489510               321.615385"
      ]
     },
     "execution_count": 87,
     "metadata": {},
     "output_type": "execute_result"
    }
   ],
   "source": [
    "clean_curry_threes.groupby('SHOT_MADE_FLAG').mean()"
   ]
  },
  {
   "cell_type": "code",
   "execution_count": 88,
   "metadata": {
    "collapsed": false
   },
   "outputs": [
    {
     "data": {
      "text/html": [
       "<div>\n",
       "<table border=\"1\" class=\"dataframe\">\n",
       "  <thead>\n",
       "    <tr style=\"text-align: right;\">\n",
       "      <th></th>\n",
       "      <th>MINUTES_REMAINING</th>\n",
       "      <th>stephConsecutiveSeconds</th>\n",
       "      <th>SHOT_MADE_FLAG</th>\n",
       "    </tr>\n",
       "    <tr>\n",
       "      <th>PERIOD_x</th>\n",
       "      <th></th>\n",
       "      <th></th>\n",
       "      <th></th>\n",
       "    </tr>\n",
       "  </thead>\n",
       "  <tbody>\n",
       "    <tr>\n",
       "      <th>1</th>\n",
       "      <td>5.375000</td>\n",
       "      <td>359.245370</td>\n",
       "      <td>0.430556</td>\n",
       "    </tr>\n",
       "    <tr>\n",
       "      <th>2</th>\n",
       "      <td>2.300000</td>\n",
       "      <td>221.075000</td>\n",
       "      <td>0.500000</td>\n",
       "    </tr>\n",
       "    <tr>\n",
       "      <th>3</th>\n",
       "      <td>5.346734</td>\n",
       "      <td>350.281407</td>\n",
       "      <td>0.432161</td>\n",
       "    </tr>\n",
       "    <tr>\n",
       "      <th>4</th>\n",
       "      <td>3.925926</td>\n",
       "      <td>272.472222</td>\n",
       "      <td>0.416667</td>\n",
       "    </tr>\n",
       "    <tr>\n",
       "      <th>5</th>\n",
       "      <td>2.666667</td>\n",
       "      <td>252.666667</td>\n",
       "      <td>0.666667</td>\n",
       "    </tr>\n",
       "  </tbody>\n",
       "</table>\n",
       "</div>"
      ],
      "text/plain": [
       "          MINUTES_REMAINING  stephConsecutiveSeconds  SHOT_MADE_FLAG\n",
       "PERIOD_x                                                            \n",
       "1                  5.375000               359.245370        0.430556\n",
       "2                  2.300000               221.075000        0.500000\n",
       "3                  5.346734               350.281407        0.432161\n",
       "4                  3.925926               272.472222        0.416667\n",
       "5                  2.666667               252.666667        0.666667"
      ]
     },
     "execution_count": 88,
     "metadata": {},
     "output_type": "execute_result"
    }
   ],
   "source": [
    "clean_curry_threes.groupby('PERIOD_x').mean()"
   ]
  },
  {
   "cell_type": "markdown",
   "metadata": {},
   "source": [
    "Mean for SHOT_MADE_FLAG = Steph's 3PT shooting % for each minute of each quarter"
   ]
  },
  {
   "cell_type": "code",
   "execution_count": 89,
   "metadata": {
    "collapsed": false
   },
   "outputs": [
    {
     "data": {
      "text/html": [
       "<div>\n",
       "<table border=\"1\" class=\"dataframe\">\n",
       "  <thead>\n",
       "    <tr style=\"text-align: right;\">\n",
       "      <th></th>\n",
       "      <th></th>\n",
       "      <th>stephConsecutiveSeconds</th>\n",
       "      <th>SHOT_MADE_FLAG</th>\n",
       "    </tr>\n",
       "    <tr>\n",
       "      <th>PERIOD_x</th>\n",
       "      <th>MINUTES_REMAINING</th>\n",
       "      <th></th>\n",
       "      <th></th>\n",
       "    </tr>\n",
       "  </thead>\n",
       "  <tbody>\n",
       "    <tr>\n",
       "      <th rowspan=\"12\" valign=\"top\">1</th>\n",
       "      <th>0</th>\n",
       "      <td>586.650000</td>\n",
       "      <td>0.350000</td>\n",
       "    </tr>\n",
       "    <tr>\n",
       "      <th>1</th>\n",
       "      <td>631.625000</td>\n",
       "      <td>0.500000</td>\n",
       "    </tr>\n",
       "    <tr>\n",
       "      <th>2</th>\n",
       "      <td>572.300000</td>\n",
       "      <td>0.500000</td>\n",
       "    </tr>\n",
       "    <tr>\n",
       "      <th>3</th>\n",
       "      <td>515.565217</td>\n",
       "      <td>0.391304</td>\n",
       "    </tr>\n",
       "    <tr>\n",
       "      <th>4</th>\n",
       "      <td>446.777778</td>\n",
       "      <td>0.500000</td>\n",
       "    </tr>\n",
       "    <tr>\n",
       "      <th>5</th>\n",
       "      <td>393.052632</td>\n",
       "      <td>0.421053</td>\n",
       "    </tr>\n",
       "    <tr>\n",
       "      <th>6</th>\n",
       "      <td>333.142857</td>\n",
       "      <td>0.428571</td>\n",
       "    </tr>\n",
       "    <tr>\n",
       "      <th>7</th>\n",
       "      <td>268.153846</td>\n",
       "      <td>0.461538</td>\n",
       "    </tr>\n",
       "    <tr>\n",
       "      <th>8</th>\n",
       "      <td>207.300000</td>\n",
       "      <td>0.400000</td>\n",
       "    </tr>\n",
       "    <tr>\n",
       "      <th>9</th>\n",
       "      <td>149.038462</td>\n",
       "      <td>0.423077</td>\n",
       "    </tr>\n",
       "    <tr>\n",
       "      <th>10</th>\n",
       "      <td>93.294118</td>\n",
       "      <td>0.352941</td>\n",
       "    </tr>\n",
       "    <tr>\n",
       "      <th>11</th>\n",
       "      <td>41.000000</td>\n",
       "      <td>0.666667</td>\n",
       "    </tr>\n",
       "    <tr>\n",
       "      <th rowspan=\"9\" valign=\"top\">2</th>\n",
       "      <th>0</th>\n",
       "      <td>306.241379</td>\n",
       "      <td>0.379310</td>\n",
       "    </tr>\n",
       "    <tr>\n",
       "      <th>1</th>\n",
       "      <td>272.210526</td>\n",
       "      <td>0.684211</td>\n",
       "    </tr>\n",
       "    <tr>\n",
       "      <th>2</th>\n",
       "      <td>219.809524</td>\n",
       "      <td>0.571429</td>\n",
       "    </tr>\n",
       "    <tr>\n",
       "      <th>3</th>\n",
       "      <td>193.500000</td>\n",
       "      <td>0.388889</td>\n",
       "    </tr>\n",
       "    <tr>\n",
       "      <th>4</th>\n",
       "      <td>158.588235</td>\n",
       "      <td>0.647059</td>\n",
       "    </tr>\n",
       "    <tr>\n",
       "      <th>5</th>\n",
       "      <td>85.555556</td>\n",
       "      <td>0.333333</td>\n",
       "    </tr>\n",
       "    <tr>\n",
       "      <th>6</th>\n",
       "      <td>118.200000</td>\n",
       "      <td>0.400000</td>\n",
       "    </tr>\n",
       "    <tr>\n",
       "      <th>7</th>\n",
       "      <td>263.000000</td>\n",
       "      <td>1.000000</td>\n",
       "    </tr>\n",
       "    <tr>\n",
       "      <th>11</th>\n",
       "      <td>57.000000</td>\n",
       "      <td>0.000000</td>\n",
       "    </tr>\n",
       "    <tr>\n",
       "      <th rowspan=\"12\" valign=\"top\">3</th>\n",
       "      <th>0</th>\n",
       "      <td>513.272727</td>\n",
       "      <td>0.363636</td>\n",
       "    </tr>\n",
       "    <tr>\n",
       "      <th>1</th>\n",
       "      <td>631.444444</td>\n",
       "      <td>0.444444</td>\n",
       "    </tr>\n",
       "    <tr>\n",
       "      <th>2</th>\n",
       "      <td>549.937500</td>\n",
       "      <td>0.562500</td>\n",
       "    </tr>\n",
       "    <tr>\n",
       "      <th>3</th>\n",
       "      <td>510.071429</td>\n",
       "      <td>0.500000</td>\n",
       "    </tr>\n",
       "    <tr>\n",
       "      <th>4</th>\n",
       "      <td>458.380952</td>\n",
       "      <td>0.428571</td>\n",
       "    </tr>\n",
       "    <tr>\n",
       "      <th>5</th>\n",
       "      <td>396.850000</td>\n",
       "      <td>0.350000</td>\n",
       "    </tr>\n",
       "    <tr>\n",
       "      <th>6</th>\n",
       "      <td>330.058824</td>\n",
       "      <td>0.352941</td>\n",
       "    </tr>\n",
       "    <tr>\n",
       "      <th>7</th>\n",
       "      <td>275.764706</td>\n",
       "      <td>0.411765</td>\n",
       "    </tr>\n",
       "    <tr>\n",
       "      <th>8</th>\n",
       "      <td>209.050000</td>\n",
       "      <td>0.500000</td>\n",
       "    </tr>\n",
       "    <tr>\n",
       "      <th>9</th>\n",
       "      <td>145.950000</td>\n",
       "      <td>0.400000</td>\n",
       "    </tr>\n",
       "    <tr>\n",
       "      <th>10</th>\n",
       "      <td>98.764706</td>\n",
       "      <td>0.529412</td>\n",
       "    </tr>\n",
       "    <tr>\n",
       "      <th>11</th>\n",
       "      <td>25.000000</td>\n",
       "      <td>0.333333</td>\n",
       "    </tr>\n",
       "    <tr>\n",
       "      <th rowspan=\"12\" valign=\"top\">4</th>\n",
       "      <th>0</th>\n",
       "      <td>416.466667</td>\n",
       "      <td>0.466667</td>\n",
       "    </tr>\n",
       "    <tr>\n",
       "      <th>1</th>\n",
       "      <td>408.307692</td>\n",
       "      <td>0.384615</td>\n",
       "    </tr>\n",
       "    <tr>\n",
       "      <th>2</th>\n",
       "      <td>346.230769</td>\n",
       "      <td>0.461538</td>\n",
       "    </tr>\n",
       "    <tr>\n",
       "      <th>3</th>\n",
       "      <td>334.166667</td>\n",
       "      <td>0.500000</td>\n",
       "    </tr>\n",
       "    <tr>\n",
       "      <th>4</th>\n",
       "      <td>220.416667</td>\n",
       "      <td>0.250000</td>\n",
       "    </tr>\n",
       "    <tr>\n",
       "      <th>5</th>\n",
       "      <td>194.727273</td>\n",
       "      <td>0.454545</td>\n",
       "    </tr>\n",
       "    <tr>\n",
       "      <th>6</th>\n",
       "      <td>156.500000</td>\n",
       "      <td>0.200000</td>\n",
       "    </tr>\n",
       "    <tr>\n",
       "      <th>7</th>\n",
       "      <td>185.125000</td>\n",
       "      <td>0.375000</td>\n",
       "    </tr>\n",
       "    <tr>\n",
       "      <th>8</th>\n",
       "      <td>154.666667</td>\n",
       "      <td>0.666667</td>\n",
       "    </tr>\n",
       "    <tr>\n",
       "      <th>9</th>\n",
       "      <td>115.833333</td>\n",
       "      <td>0.666667</td>\n",
       "    </tr>\n",
       "    <tr>\n",
       "      <th>10</th>\n",
       "      <td>99.000000</td>\n",
       "      <td>0.333333</td>\n",
       "    </tr>\n",
       "    <tr>\n",
       "      <th>11</th>\n",
       "      <td>36.000000</td>\n",
       "      <td>0.500000</td>\n",
       "    </tr>\n",
       "    <tr>\n",
       "      <th rowspan=\"2\" valign=\"top\">5</th>\n",
       "      <th>2</th>\n",
       "      <td>143.000000</td>\n",
       "      <td>1.000000</td>\n",
       "    </tr>\n",
       "    <tr>\n",
       "      <th>3</th>\n",
       "      <td>307.500000</td>\n",
       "      <td>0.500000</td>\n",
       "    </tr>\n",
       "  </tbody>\n",
       "</table>\n",
       "</div>"
      ],
      "text/plain": [
       "                            stephConsecutiveSeconds  SHOT_MADE_FLAG\n",
       "PERIOD_x MINUTES_REMAINING                                         \n",
       "1        0                               586.650000        0.350000\n",
       "         1                               631.625000        0.500000\n",
       "         2                               572.300000        0.500000\n",
       "         3                               515.565217        0.391304\n",
       "         4                               446.777778        0.500000\n",
       "         5                               393.052632        0.421053\n",
       "         6                               333.142857        0.428571\n",
       "         7                               268.153846        0.461538\n",
       "         8                               207.300000        0.400000\n",
       "         9                               149.038462        0.423077\n",
       "         10                               93.294118        0.352941\n",
       "         11                               41.000000        0.666667\n",
       "2        0                               306.241379        0.379310\n",
       "         1                               272.210526        0.684211\n",
       "         2                               219.809524        0.571429\n",
       "         3                               193.500000        0.388889\n",
       "         4                               158.588235        0.647059\n",
       "         5                                85.555556        0.333333\n",
       "         6                               118.200000        0.400000\n",
       "         7                               263.000000        1.000000\n",
       "         11                               57.000000        0.000000\n",
       "3        0                               513.272727        0.363636\n",
       "         1                               631.444444        0.444444\n",
       "         2                               549.937500        0.562500\n",
       "         3                               510.071429        0.500000\n",
       "         4                               458.380952        0.428571\n",
       "         5                               396.850000        0.350000\n",
       "         6                               330.058824        0.352941\n",
       "         7                               275.764706        0.411765\n",
       "         8                               209.050000        0.500000\n",
       "         9                               145.950000        0.400000\n",
       "         10                               98.764706        0.529412\n",
       "         11                               25.000000        0.333333\n",
       "4        0                               416.466667        0.466667\n",
       "         1                               408.307692        0.384615\n",
       "         2                               346.230769        0.461538\n",
       "         3                               334.166667        0.500000\n",
       "         4                               220.416667        0.250000\n",
       "         5                               194.727273        0.454545\n",
       "         6                               156.500000        0.200000\n",
       "         7                               185.125000        0.375000\n",
       "         8                               154.666667        0.666667\n",
       "         9                               115.833333        0.666667\n",
       "         10                               99.000000        0.333333\n",
       "         11                               36.000000        0.500000\n",
       "5        2                               143.000000        1.000000\n",
       "         3                               307.500000        0.500000"
      ]
     },
     "execution_count": 89,
     "metadata": {},
     "output_type": "execute_result"
    }
   ],
   "source": [
    "clean_curry_threes.groupby(['PERIOD_x','MINUTES_REMAINING']).mean()"
   ]
  },
  {
   "cell_type": "markdown",
   "metadata": {},
   "source": [
    "#### Look at 3PT makes and misses by quarter"
   ]
  },
  {
   "cell_type": "code",
   "execution_count": 90,
   "metadata": {
    "collapsed": false
   },
   "outputs": [
    {
     "data": {
      "text/html": [
       "<div>\n",
       "<table border=\"1\" class=\"dataframe\">\n",
       "  <thead>\n",
       "    <tr style=\"text-align: right;\">\n",
       "      <th>PERIOD_x</th>\n",
       "      <th>1</th>\n",
       "      <th>2</th>\n",
       "      <th>3</th>\n",
       "      <th>4</th>\n",
       "      <th>5</th>\n",
       "    </tr>\n",
       "    <tr>\n",
       "      <th>SHOT_MADE_FLAG</th>\n",
       "      <th></th>\n",
       "      <th></th>\n",
       "      <th></th>\n",
       "      <th></th>\n",
       "      <th></th>\n",
       "    </tr>\n",
       "  </thead>\n",
       "  <tbody>\n",
       "    <tr>\n",
       "      <th>0</th>\n",
       "      <td>123</td>\n",
       "      <td>60</td>\n",
       "      <td>113</td>\n",
       "      <td>63</td>\n",
       "      <td>1</td>\n",
       "    </tr>\n",
       "    <tr>\n",
       "      <th>1</th>\n",
       "      <td>93</td>\n",
       "      <td>60</td>\n",
       "      <td>86</td>\n",
       "      <td>45</td>\n",
       "      <td>2</td>\n",
       "    </tr>\n",
       "  </tbody>\n",
       "</table>\n",
       "</div>"
      ],
      "text/plain": [
       "PERIOD_x          1   2    3   4  5\n",
       "SHOT_MADE_FLAG                     \n",
       "0               123  60  113  63  1\n",
       "1                93  60   86  45  2"
      ]
     },
     "execution_count": 90,
     "metadata": {},
     "output_type": "execute_result"
    }
   ],
   "source": [
    "pd.crosstab(clean_curry_threes['SHOT_MADE_FLAG'], clean_curry_threes['PERIOD_x'], rownames=['SHOT_MADE_FLAG'])"
   ]
  },
  {
   "cell_type": "markdown",
   "metadata": {},
   "source": [
    "#### Visualization"
   ]
  },
  {
   "cell_type": "code",
   "execution_count": 91,
   "metadata": {
    "collapsed": false
   },
   "outputs": [
    {
     "data": {
      "text/plain": [
       "<matplotlib.text.Text at 0x7f3275c8d4e0>"
      ]
     },
     "execution_count": 91,
     "metadata": {},
     "output_type": "execute_result"
    },
    {
     "data": {
      "image/png": "[encoded data removed]",
      "text/plain": [
       "<matplotlib.figure.Figure at 0x7f3275c7ceb8>"
      ]
     },
     "metadata": {},
     "output_type": "display_data"
    }
   ],
   "source": [
    "# histogram of seconds\n",
    "clean_curry_threes.stephConsecutiveSeconds.hist()\n",
    "plt.title('Histogram of Steph Consecutive Seconds on Court')\n",
    "plt.xlabel('Seconds on Court')\n",
    "plt.ylabel('Frequency')"
   ]
  },
  {
   "cell_type": "markdown",
   "metadata": {},
   "source": [
    "Take a look at distribution of seconds on court for made shots versus missed shots."
   ]
  },
  {
   "cell_type": "code",
   "execution_count": 92,
   "metadata": {
    "collapsed": false
   },
   "outputs": [
    {
     "data": {
      "text/plain": [
       "<matplotlib.text.Text at 0x7f3275c8d1d0>"
      ]
     },
     "execution_count": 92,
     "metadata": {},
     "output_type": "execute_result"
    },
    {
     "data": {
      "image/png": "[encoded data removed]",
      "text/plain": [
       "<matplotlib.figure.Figure at 0x7f3275c07dd8>"
      ]
     },
     "metadata": {},
     "output_type": "display_data"
    }
   ],
   "source": [
    "# barplot of quarters grouped by made shot\n",
    "pd.crosstab(clean_curry_threes.PERIOD_x, clean_curry_threes.SHOT_MADE_FLAG.astype(bool)).plot(kind='bar')\n",
    "plt.title('Made Shot Distribution by Quarter')\n",
    "plt.xlabel('Quarter')\n",
    "plt.ylabel('Frequency')"
   ]
  },
  {
   "cell_type": "markdown",
   "metadata": {},
   "source": [
    "### Prepare Data for Logistic Regression"
   ]
  },
  {
   "cell_type": "markdown",
   "metadata": {},
   "source": [
    "#### Make Period into \"dummy\" variable with 5 boolean columns that indicate which period it is. (5 = Overtime) "
   ]
  },
  {
   "cell_type": "code",
   "execution_count": 93,
   "metadata": {
    "collapsed": false
   },
   "outputs": [],
   "source": [
    "dummy_period = pd.get_dummies(clean_curry_threes['PERIOD_x'], prefix='Period')"
   ]
  },
  {
   "cell_type": "code",
   "execution_count": 94,
   "metadata": {
    "collapsed": false
   },
   "outputs": [
    {
     "data": {
      "text/html": [
       "<div>\n",
       "<table border=\"1\" class=\"dataframe\">\n",
       "  <thead>\n",
       "    <tr style=\"text-align: right;\">\n",
       "      <th></th>\n",
       "      <th>Period_1</th>\n",
       "      <th>Period_2</th>\n",
       "      <th>Period_3</th>\n",
       "      <th>Period_4</th>\n",
       "      <th>Period_5</th>\n",
       "    </tr>\n",
       "  </thead>\n",
       "  <tbody>\n",
       "    <tr>\n",
       "      <th>0</th>\n",
       "      <td>1</td>\n",
       "      <td>0</td>\n",
       "      <td>0</td>\n",
       "      <td>0</td>\n",
       "      <td>0</td>\n",
       "    </tr>\n",
       "    <tr>\n",
       "      <th>1</th>\n",
       "      <td>0</td>\n",
       "      <td>1</td>\n",
       "      <td>0</td>\n",
       "      <td>0</td>\n",
       "      <td>0</td>\n",
       "    </tr>\n",
       "    <tr>\n",
       "      <th>2</th>\n",
       "      <td>0</td>\n",
       "      <td>0</td>\n",
       "      <td>1</td>\n",
       "      <td>0</td>\n",
       "      <td>0</td>\n",
       "    </tr>\n",
       "    <tr>\n",
       "      <th>3</th>\n",
       "      <td>0</td>\n",
       "      <td>0</td>\n",
       "      <td>1</td>\n",
       "      <td>0</td>\n",
       "      <td>0</td>\n",
       "    </tr>\n",
       "    <tr>\n",
       "      <th>4</th>\n",
       "      <td>0</td>\n",
       "      <td>0</td>\n",
       "      <td>1</td>\n",
       "      <td>0</td>\n",
       "      <td>0</td>\n",
       "    </tr>\n",
       "  </tbody>\n",
       "</table>\n",
       "</div>"
      ],
      "text/plain": [
       "   Period_1  Period_2  Period_3  Period_4  Period_5\n",
       "0         1         0         0         0         0\n",
       "1         0         1         0         0         0\n",
       "2         0         0         1         0         0\n",
       "3         0         0         1         0         0\n",
       "4         0         0         1         0         0"
      ]
     },
     "execution_count": 94,
     "metadata": {},
     "output_type": "execute_result"
    }
   ],
   "source": [
    "dummy_period.head()"
   ]
  },
  {
   "cell_type": "markdown",
   "metadata": {},
   "source": [
    "#### Drop original period column and merge with dummy period table"
   ]
  },
  {
   "cell_type": "code",
   "execution_count": 95,
   "metadata": {
    "collapsed": false
   },
   "outputs": [
    {
     "data": {
      "text/html": [
       "<div>\n",
       "<table border=\"1\" class=\"dataframe\">\n",
       "  <thead>\n",
       "    <tr style=\"text-align: right;\">\n",
       "      <th></th>\n",
       "      <th>MINUTES_REMAINING</th>\n",
       "      <th>stephConsecutiveSeconds</th>\n",
       "      <th>SHOT_MADE_FLAG</th>\n",
       "    </tr>\n",
       "  </thead>\n",
       "  <tbody>\n",
       "    <tr>\n",
       "      <th>0</th>\n",
       "      <td>5</td>\n",
       "      <td>411</td>\n",
       "      <td>0</td>\n",
       "    </tr>\n",
       "    <tr>\n",
       "      <th>1</th>\n",
       "      <td>5</td>\n",
       "      <td>205</td>\n",
       "      <td>0</td>\n",
       "    </tr>\n",
       "    <tr>\n",
       "      <th>2</th>\n",
       "      <td>10</td>\n",
       "      <td>102</td>\n",
       "      <td>0</td>\n",
       "    </tr>\n",
       "    <tr>\n",
       "      <th>3</th>\n",
       "      <td>8</td>\n",
       "      <td>238</td>\n",
       "      <td>0</td>\n",
       "    </tr>\n",
       "    <tr>\n",
       "      <th>4</th>\n",
       "      <td>4</td>\n",
       "      <td>454</td>\n",
       "      <td>1</td>\n",
       "    </tr>\n",
       "  </tbody>\n",
       "</table>\n",
       "</div>"
      ],
      "text/plain": [
       "   MINUTES_REMAINING  stephConsecutiveSeconds  SHOT_MADE_FLAG\n",
       "0                  5                      411               0\n",
       "1                  5                      205               0\n",
       "2                 10                      102               0\n",
       "3                  8                      238               0\n",
       "4                  4                      454               1"
      ]
     },
     "execution_count": 95,
     "metadata": {},
     "output_type": "execute_result"
    }
   ],
   "source": [
    "del clean_curry_threes['PERIOD_x']\n",
    "clean_curry_threes.head()"
   ]
  },
  {
   "cell_type": "code",
   "execution_count": 96,
   "metadata": {
    "collapsed": false
   },
   "outputs": [],
   "source": [
    "data = clean_curry_threes.join(dummy_period.ix[:, 'Period_1':])"
   ]
  },
  {
   "cell_type": "code",
   "execution_count": 97,
   "metadata": {
    "collapsed": false
   },
   "outputs": [
    {
     "data": {
      "text/html": [
       "<div>\n",
       "<table border=\"1\" class=\"dataframe\">\n",
       "  <thead>\n",
       "    <tr style=\"text-align: right;\">\n",
       "      <th></th>\n",
       "      <th>MINUTES_REMAINING</th>\n",
       "      <th>stephConsecutiveSeconds</th>\n",
       "      <th>SHOT_MADE_FLAG</th>\n",
       "      <th>Period_1</th>\n",
       "      <th>Period_2</th>\n",
       "      <th>Period_3</th>\n",
       "      <th>Period_4</th>\n",
       "      <th>Period_5</th>\n",
       "    </tr>\n",
       "  </thead>\n",
       "  <tbody>\n",
       "    <tr>\n",
       "      <th>0</th>\n",
       "      <td>5</td>\n",
       "      <td>411</td>\n",
       "      <td>0</td>\n",
       "      <td>1</td>\n",
       "      <td>0</td>\n",
       "      <td>0</td>\n",
       "      <td>0</td>\n",
       "      <td>0</td>\n",
       "    </tr>\n",
       "    <tr>\n",
       "      <th>1</th>\n",
       "      <td>5</td>\n",
       "      <td>205</td>\n",
       "      <td>0</td>\n",
       "      <td>0</td>\n",
       "      <td>1</td>\n",
       "      <td>0</td>\n",
       "      <td>0</td>\n",
       "      <td>0</td>\n",
       "    </tr>\n",
       "    <tr>\n",
       "      <th>2</th>\n",
       "      <td>10</td>\n",
       "      <td>102</td>\n",
       "      <td>0</td>\n",
       "      <td>0</td>\n",
       "      <td>0</td>\n",
       "      <td>1</td>\n",
       "      <td>0</td>\n",
       "      <td>0</td>\n",
       "    </tr>\n",
       "    <tr>\n",
       "      <th>3</th>\n",
       "      <td>8</td>\n",
       "      <td>238</td>\n",
       "      <td>0</td>\n",
       "      <td>0</td>\n",
       "      <td>0</td>\n",
       "      <td>1</td>\n",
       "      <td>0</td>\n",
       "      <td>0</td>\n",
       "    </tr>\n",
       "    <tr>\n",
       "      <th>4</th>\n",
       "      <td>4</td>\n",
       "      <td>454</td>\n",
       "      <td>1</td>\n",
       "      <td>0</td>\n",
       "      <td>0</td>\n",
       "      <td>1</td>\n",
       "      <td>0</td>\n",
       "      <td>0</td>\n",
       "    </tr>\n",
       "  </tbody>\n",
       "</table>\n",
       "</div>"
      ],
      "text/plain": [
       "   MINUTES_REMAINING  stephConsecutiveSeconds  SHOT_MADE_FLAG  Period_1  \\\n",
       "0                  5                      411               0         1   \n",
       "1                  5                      205               0         0   \n",
       "2                 10                      102               0         0   \n",
       "3                  8                      238               0         0   \n",
       "4                  4                      454               1         0   \n",
       "\n",
       "   Period_2  Period_3  Period_4  Period_5  \n",
       "0         0         0         0         0  \n",
       "1         1         0         0         0  \n",
       "2         0         1         0         0  \n",
       "3         0         1         0         0  \n",
       "4         0         1         0         0  "
      ]
     },
     "execution_count": 97,
     "metadata": {},
     "output_type": "execute_result"
    }
   ],
   "source": [
    "data.head()"
   ]
  },
  {
   "cell_type": "code",
   "execution_count": 98,
   "metadata": {
    "collapsed": false
   },
   "outputs": [
    {
     "data": {
      "text/html": [
       "<div>\n",
       "<table border=\"1\" class=\"dataframe\">\n",
       "  <thead>\n",
       "    <tr style=\"text-align: right;\">\n",
       "      <th></th>\n",
       "      <th>MINUTES_REMAINING</th>\n",
       "      <th>stephConsecutiveSeconds</th>\n",
       "      <th>SHOT_MADE_FLAG</th>\n",
       "      <th>Period_1</th>\n",
       "      <th>Period_2</th>\n",
       "      <th>Period_3</th>\n",
       "      <th>Period_4</th>\n",
       "      <th>Period_5</th>\n",
       "      <th>intercept</th>\n",
       "    </tr>\n",
       "  </thead>\n",
       "  <tbody>\n",
       "    <tr>\n",
       "      <th>0</th>\n",
       "      <td>5</td>\n",
       "      <td>411</td>\n",
       "      <td>0</td>\n",
       "      <td>1</td>\n",
       "      <td>0</td>\n",
       "      <td>0</td>\n",
       "      <td>0</td>\n",
       "      <td>0</td>\n",
       "      <td>1</td>\n",
       "    </tr>\n",
       "    <tr>\n",
       "      <th>1</th>\n",
       "      <td>5</td>\n",
       "      <td>205</td>\n",
       "      <td>0</td>\n",
       "      <td>0</td>\n",
       "      <td>1</td>\n",
       "      <td>0</td>\n",
       "      <td>0</td>\n",
       "      <td>0</td>\n",
       "      <td>1</td>\n",
       "    </tr>\n",
       "    <tr>\n",
       "      <th>2</th>\n",
       "      <td>10</td>\n",
       "      <td>102</td>\n",
       "      <td>0</td>\n",
       "      <td>0</td>\n",
       "      <td>0</td>\n",
       "      <td>1</td>\n",
       "      <td>0</td>\n",
       "      <td>0</td>\n",
       "      <td>1</td>\n",
       "    </tr>\n",
       "    <tr>\n",
       "      <th>3</th>\n",
       "      <td>8</td>\n",
       "      <td>238</td>\n",
       "      <td>0</td>\n",
       "      <td>0</td>\n",
       "      <td>0</td>\n",
       "      <td>1</td>\n",
       "      <td>0</td>\n",
       "      <td>0</td>\n",
       "      <td>1</td>\n",
       "    </tr>\n",
       "    <tr>\n",
       "      <th>4</th>\n",
       "      <td>4</td>\n",
       "      <td>454</td>\n",
       "      <td>1</td>\n",
       "      <td>0</td>\n",
       "      <td>0</td>\n",
       "      <td>1</td>\n",
       "      <td>0</td>\n",
       "      <td>0</td>\n",
       "      <td>1</td>\n",
       "    </tr>\n",
       "  </tbody>\n",
       "</table>\n",
       "</div>"
      ],
      "text/plain": [
       "   MINUTES_REMAINING  stephConsecutiveSeconds  SHOT_MADE_FLAG  Period_1  \\\n",
       "0                  5                      411               0         1   \n",
       "1                  5                      205               0         0   \n",
       "2                 10                      102               0         0   \n",
       "3                  8                      238               0         0   \n",
       "4                  4                      454               1         0   \n",
       "\n",
       "   Period_2  Period_3  Period_4  Period_5  intercept  \n",
       "0         0         0         0         0          1  \n",
       "1         1         0         0         0          1  \n",
       "2         0         1         0         0          1  \n",
       "3         0         1         0         0          1  \n",
       "4         0         1         0         0          1  "
      ]
     },
     "execution_count": 98,
     "metadata": {},
     "output_type": "execute_result"
    }
   ],
   "source": [
    "# manually add the intercept (statsmodels requires explicit declaration of intercept)\n",
    "data['intercept'] = 1.0\n",
    "data.head()"
   ]
  },
  {
   "cell_type": "code",
   "execution_count": 99,
   "metadata": {
    "collapsed": false
   },
   "outputs": [
    {
     "data": {
      "text/plain": [
       "(646,)"
      ]
     },
     "execution_count": 99,
     "metadata": {},
     "output_type": "execute_result"
    }
   ],
   "source": [
    "#make y into 1-D array of SHOT_MADE_FLAg\n",
    "y = data['SHOT_MADE_FLAG']\n",
    "y = np.ravel(y)\n",
    "del data['SHOT_MADE_FLAG']\n",
    "y.shape"
   ]
  },
  {
   "cell_type": "markdown",
   "metadata": {},
   "source": [
    "## Performing the Regression\n",
    "* Predicting shot made from minutes remaining, consecutive seconds on court, and period"
   ]
  },
  {
   "cell_type": "markdown",
   "metadata": {},
   "source": [
    "First run logistic regression on entire data set"
   ]
  },
  {
   "cell_type": "code",
   "execution_count": 100,
   "metadata": {
    "collapsed": false
   },
   "outputs": [
    {
     "data": {
      "text/plain": [
       "0.55263157894736847"
      ]
     },
     "execution_count": 100,
     "metadata": {},
     "output_type": "execute_result"
    }
   ],
   "source": [
    "# create logistic regression model, fit with data and y\n",
    "model = LogisticRegression()\n",
    "model = model.fit(data, y)\n",
    "\n",
    "# check the accuracy of training set\n",
    "model.score(data, y)"
   ]
  },
  {
   "cell_type": "code",
   "execution_count": 101,
   "metadata": {
    "collapsed": false
   },
   "outputs": [
    {
     "data": {
      "text/plain": [
       "0.44272445820433437"
      ]
     },
     "execution_count": 101,
     "metadata": {},
     "output_type": "execute_result"
    }
   ],
   "source": [
    "# what is steph's 3PT %?\n",
    "y.mean()"
   ]
  },
  {
   "cell_type": "markdown",
   "metadata": {},
   "source": [
    "#### That means we could get ~56% accuracy by just guessing a miss every time. "
   ]
  },
  {
   "cell_type": "markdown",
   "metadata": {},
   "source": [
    "Take a look at coeffcients"
   ]
  },
  {
   "cell_type": "code",
   "execution_count": 102,
   "metadata": {
    "collapsed": false
   },
   "outputs": [
    {
     "data": {
      "text/html": [
       "<div>\n",
       "<table border=\"1\" class=\"dataframe\">\n",
       "  <thead>\n",
       "    <tr style=\"text-align: right;\">\n",
       "      <th></th>\n",
       "      <th>0</th>\n",
       "      <th>1</th>\n",
       "    </tr>\n",
       "  </thead>\n",
       "  <tbody>\n",
       "    <tr>\n",
       "      <th>0</th>\n",
       "      <td>MINUTES_REMAINING</td>\n",
       "      <td>[0.060761686402]</td>\n",
       "    </tr>\n",
       "    <tr>\n",
       "      <th>1</th>\n",
       "      <td>stephConsecutiveSeconds</td>\n",
       "      <td>[0.00123536094757]</td>\n",
       "    </tr>\n",
       "    <tr>\n",
       "      <th>2</th>\n",
       "      <td>Period_1</td>\n",
       "      <td>[-0.372083292262]</td>\n",
       "    </tr>\n",
       "    <tr>\n",
       "      <th>3</th>\n",
       "      <td>Period_2</td>\n",
       "      <td>[0.250408216922]</td>\n",
       "    </tr>\n",
       "    <tr>\n",
       "      <th>4</th>\n",
       "      <td>Period_3</td>\n",
       "      <td>[-0.35352289981]</td>\n",
       "    </tr>\n",
       "    <tr>\n",
       "      <th>5</th>\n",
       "      <td>Period_4</td>\n",
       "      <td>[-0.231198757766]</td>\n",
       "    </tr>\n",
       "    <tr>\n",
       "      <th>6</th>\n",
       "      <td>Period_5</td>\n",
       "      <td>[0.370303124385]</td>\n",
       "    </tr>\n",
       "    <tr>\n",
       "      <th>7</th>\n",
       "      <td>intercept</td>\n",
       "      <td>[-0.336093608531]</td>\n",
       "    </tr>\n",
       "  </tbody>\n",
       "</table>\n",
       "</div>"
      ],
      "text/plain": [
       "                         0                   1\n",
       "0        MINUTES_REMAINING    [0.060761686402]\n",
       "1  stephConsecutiveSeconds  [0.00123536094757]\n",
       "2                 Period_1   [-0.372083292262]\n",
       "3                 Period_2    [0.250408216922]\n",
       "4                 Period_3    [-0.35352289981]\n",
       "5                 Period_4   [-0.231198757766]\n",
       "6                 Period_5    [0.370303124385]\n",
       "7                intercept   [-0.336093608531]"
      ]
     },
     "execution_count": 102,
     "metadata": {},
     "output_type": "execute_result"
    }
   ],
   "source": [
    "pd.DataFrame(list(zip(data.columns, np.transpose(model.coef_))))"
   ]
  },
  {
   "cell_type": "markdown",
   "metadata": {},
   "source": [
    "A shot being taken in Period 2 seems to increase the likelihood of a made shot. While consecutive seconds played doesn't really seem to have much of an impact. "
   ]
  },
  {
   "cell_type": "markdown",
   "metadata": {},
   "source": [
    "### Test/Train Split"
   ]
  },
  {
   "cell_type": "code",
   "execution_count": 103,
   "metadata": {
    "collapsed": false
   },
   "outputs": [
    {
     "data": {
      "text/plain": [
       "LogisticRegression(C=1.0, class_weight=None, dual=False, fit_intercept=True,\n",
       "          intercept_scaling=1, max_iter=100, multi_class='ovr', n_jobs=1,\n",
       "          penalty='l2', random_state=None, solver='liblinear', tol=0.0001,\n",
       "          verbose=0, warm_start=False)"
      ]
     },
     "execution_count": 103,
     "metadata": {},
     "output_type": "execute_result"
    }
   ],
   "source": [
    "# evaluate model by splitting into train and test \n",
    "data_train, data_test, y_train, y_test = train_test_split(data, y, test_size=0.3, random_state=0)\n",
    "model_2 = LogisticRegression()\n",
    "model_2.fit(data_train, y_train)"
   ]
  },
  {
   "cell_type": "code",
   "execution_count": 104,
   "metadata": {
    "collapsed": false
   },
   "outputs": [
    {
     "data": {
      "text/plain": [
       "array([0, 0, 0, 1, 0, 1, 1, 0, 0, 0, 0, 1, 0, 0, 0, 0, 1, 0, 0, 0, 0, 0, 0,\n",
       "       1, 1, 1, 0, 1, 1, 0, 0, 0, 0, 0, 0, 0, 0, 1, 0, 0, 0, 0, 1, 0, 1, 0,\n",
       "       0, 1, 0, 0, 0, 1, 0, 1, 1, 0, 1, 0, 0, 0, 1, 0, 0, 0, 0, 0, 0, 1, 0,\n",
       "       0, 0, 1, 0, 1, 0, 0, 0, 0, 0, 1, 0, 0, 0, 0, 0, 1, 0, 0, 0, 1, 0, 1,\n",
       "       0, 0, 0, 1, 1, 0, 0, 0, 0, 0, 0, 1, 1, 0, 0, 0, 0, 0, 0, 1, 0, 0, 0,\n",
       "       0, 0, 0, 0, 0, 0, 1, 1, 0, 1, 0, 0, 0, 0, 0, 1, 0, 0, 0, 1, 0, 0, 0,\n",
       "       1, 1, 0, 0, 0, 0, 0, 0, 0, 0, 1, 0, 0, 0, 0, 1, 1, 0, 0, 0, 0, 0, 0,\n",
       "       1, 0, 1, 0, 1, 0, 0, 1, 0, 0, 1, 0, 1, 1, 1, 0, 0, 0, 0, 0, 0, 1, 0,\n",
       "       1, 0, 1, 0, 0, 0, 0, 0, 1, 1])"
      ]
     },
     "execution_count": 104,
     "metadata": {},
     "output_type": "execute_result"
    }
   ],
   "source": [
    "# predict made shot labels for test set\n",
    "predicted = model_2.predict(data_test)\n",
    "predicted"
   ]
  },
  {
   "cell_type": "code",
   "execution_count": 105,
   "metadata": {
    "collapsed": false
   },
   "outputs": [
    {
     "data": {
      "text/plain": [
       "array([[ 0.59248446,  0.40751554],\n",
       "       [ 0.61247524,  0.38752476],\n",
       "       [ 0.60113742,  0.39886258],\n",
       "       [ 0.4440176 ,  0.5559824 ],\n",
       "       [ 0.60066554,  0.39933446],\n",
       "       [ 0.44348109,  0.55651891],\n",
       "       [ 0.47971433,  0.52028567],\n",
       "       [ 0.54355376,  0.45644624],\n",
       "       [ 0.54594501,  0.45405499],\n",
       "       [ 0.51526139,  0.48473861],\n",
       "       [ 0.52248942,  0.47751058],\n",
       "       [ 0.49849959,  0.50150041],\n",
       "       [ 0.59071006,  0.40928994],\n",
       "       [ 0.60644761,  0.39355239],\n",
       "       [ 0.53271428,  0.46728572],\n",
       "       [ 0.54042524,  0.45957476],\n",
       "       [ 0.45849432,  0.54150568],\n",
       "       [ 0.5250941 ,  0.4749059 ],\n",
       "       [ 0.5464381 ,  0.4535619 ],\n",
       "       [ 0.59412454,  0.40587546],\n",
       "       [ 0.52996526,  0.47003474],\n",
       "       [ 0.52467571,  0.47532429],\n",
       "       [ 0.5156178 ,  0.4843822 ],\n",
       "       [ 0.49967223,  0.50032777],\n",
       "       [ 0.44826737,  0.55173263],\n",
       "       [ 0.45473246,  0.54526754],\n",
       "       [ 0.62660119,  0.37339881],\n",
       "       [ 0.49905178,  0.50094822],\n",
       "       [ 0.45202009,  0.54797991],\n",
       "       [ 0.60364542,  0.39635458],\n",
       "       [ 0.53324519,  0.46675481],\n",
       "       [ 0.57886701,  0.42113299],\n",
       "       [ 0.5206084 ,  0.4793916 ],\n",
       "       [ 0.63779906,  0.36220094],\n",
       "       [ 0.58909933,  0.41090067],\n",
       "       [ 0.50647815,  0.49352185],\n",
       "       [ 0.53250322,  0.46749678],\n",
       "       [ 0.4670458 ,  0.5329542 ],\n",
       "       [ 0.57761227,  0.42238773],\n",
       "       [ 0.64513189,  0.35486811],\n",
       "       [ 0.53316847,  0.46683153],\n",
       "       [ 0.51730262,  0.48269738],\n",
       "       [ 0.46845094,  0.53154906],\n",
       "       [ 0.62642348,  0.37357652],\n",
       "       [ 0.46373925,  0.53626075],\n",
       "       [ 0.58883546,  0.41116454],\n",
       "       [ 0.56339859,  0.43660141],\n",
       "       [ 0.49592482,  0.50407518],\n",
       "       [ 0.5461388 ,  0.4538612 ],\n",
       "       [ 0.61556304,  0.38443696],\n",
       "       [ 0.60231242,  0.39768758],\n",
       "       [ 0.47928125,  0.52071875],\n",
       "       [ 0.60924282,  0.39075718],\n",
       "       [ 0.43842822,  0.56157178],\n",
       "       [ 0.48955936,  0.51044064],\n",
       "       [ 0.6219059 ,  0.3780941 ],\n",
       "       [ 0.49068306,  0.50931694],\n",
       "       [ 0.59982459,  0.40017541],\n",
       "       [ 0.57249003,  0.42750997],\n",
       "       [ 0.50092193,  0.49907807],\n",
       "       [ 0.44189574,  0.55810426],\n",
       "       [ 0.56810079,  0.43189921],\n",
       "       [ 0.60738013,  0.39261987],\n",
       "       [ 0.56846736,  0.43153264],\n",
       "       [ 0.57924811,  0.42075189],\n",
       "       [ 0.60226154,  0.39773846],\n",
       "       [ 0.6258023 ,  0.3741977 ],\n",
       "       [ 0.4355854 ,  0.5644146 ],\n",
       "       [ 0.50979255,  0.49020745],\n",
       "       [ 0.60644761,  0.39355239],\n",
       "       [ 0.52411927,  0.47588073],\n",
       "       [ 0.45434481,  0.54565519],\n",
       "       [ 0.54112525,  0.45887475],\n",
       "       [ 0.45764154,  0.54235846],\n",
       "       [ 0.65280036,  0.34719964],\n",
       "       [ 0.5627051 ,  0.4372949 ],\n",
       "       [ 0.52840707,  0.47159293],\n",
       "       [ 0.51076934,  0.48923066],\n",
       "       [ 0.50245688,  0.49754312],\n",
       "       [ 0.47179556,  0.52820444],\n",
       "       [ 0.52401307,  0.47598693],\n",
       "       [ 0.52072657,  0.47927343],\n",
       "       [ 0.52296113,  0.47703887],\n",
       "       [ 0.55195718,  0.44804282],\n",
       "       [ 0.59378194,  0.40621806],\n",
       "       [ 0.49815722,  0.50184278],\n",
       "       [ 0.52021817,  0.47978183],\n",
       "       [ 0.57937499,  0.42062501],\n",
       "       [ 0.56846736,  0.43153264],\n",
       "       [ 0.47043205,  0.52956795],\n",
       "       [ 0.53996032,  0.46003968],\n",
       "       [ 0.49951972,  0.50048028],\n",
       "       [ 0.60489156,  0.39510844],\n",
       "       [ 0.51335706,  0.48664294],\n",
       "       [ 0.58717102,  0.41282898],\n",
       "       [ 0.47647354,  0.52352646],\n",
       "       [ 0.47909333,  0.52090667],\n",
       "       [ 0.54555741,  0.45444259],\n",
       "       [ 0.60458025,  0.39541975],\n",
       "       [ 0.61786394,  0.38213606],\n",
       "       [ 0.54044879,  0.45955121],\n",
       "       [ 0.55240838,  0.44759162],\n",
       "       [ 0.50166956,  0.49833044],\n",
       "       [ 0.4825989 ,  0.5174011 ],\n",
       "       [ 0.43842822,  0.56157178],\n",
       "       [ 0.57761227,  0.42238773],\n",
       "       [ 0.50925493,  0.49074507],\n",
       "       [ 0.60495397,  0.39504603],\n",
       "       [ 0.5765784 ,  0.4234216 ],\n",
       "       [ 0.57696006,  0.42303994],\n",
       "       [ 0.54315413,  0.45684587],\n",
       "       [ 0.48103744,  0.51896256],\n",
       "       [ 0.5150376 ,  0.4849624 ],\n",
       "       [ 0.53005393,  0.46994607],\n",
       "       [ 0.61802685,  0.38197315],\n",
       "       [ 0.54478203,  0.45521797],\n",
       "       [ 0.53062621,  0.46937379],\n",
       "       [ 0.57646747,  0.42353253],\n",
       "       [ 0.52762776,  0.47237224],\n",
       "       [ 0.5358797 ,  0.4641203 ],\n",
       "       [ 0.62060719,  0.37939281],\n",
       "       [ 0.47206881,  0.52793119],\n",
       "       [ 0.48034097,  0.51965903],\n",
       "       [ 0.55921587,  0.44078413],\n",
       "       [ 0.46121284,  0.53878716],\n",
       "       [ 0.5122209 ,  0.4877791 ],\n",
       "       [ 0.61969752,  0.38030248],\n",
       "       [ 0.52108827,  0.47891173],\n",
       "       [ 0.5121367 ,  0.4878633 ],\n",
       "       [ 0.57895907,  0.42104093],\n",
       "       [ 0.49276245,  0.50723755],\n",
       "       [ 0.57095868,  0.42904132],\n",
       "       [ 0.51964469,  0.48035531],\n",
       "       [ 0.5848382 ,  0.4151618 ],\n",
       "       [ 0.48924568,  0.51075432],\n",
       "       [ 0.55830478,  0.44169522],\n",
       "       [ 0.52081542,  0.47918458],\n",
       "       [ 0.61035891,  0.38964109],\n",
       "       [ 0.49791328,  0.50208672],\n",
       "       [ 0.48630865,  0.51369135],\n",
       "       [ 0.61303174,  0.38696826],\n",
       "       [ 0.56827557,  0.43172443],\n",
       "       [ 0.50854327,  0.49145673],\n",
       "       [ 0.51277114,  0.48722886],\n",
       "       [ 0.51057399,  0.48942601],\n",
       "       [ 0.54668545,  0.45331455],\n",
       "       [ 0.51499632,  0.48500368],\n",
       "       [ 0.52996526,  0.47003474],\n",
       "       [ 0.47393907,  0.52606093],\n",
       "       [ 0.63375025,  0.36624975],\n",
       "       [ 0.56166715,  0.43833285],\n",
       "       [ 0.53164794,  0.46835206],\n",
       "       [ 0.51030161,  0.48969839],\n",
       "       [ 0.40738196,  0.59261804],\n",
       "       [ 0.4654894 ,  0.5345106 ],\n",
       "       [ 0.52489915,  0.47510085],\n",
       "       [ 0.61178851,  0.38821149],\n",
       "       [ 0.64656238,  0.35343762],\n",
       "       [ 0.51701852,  0.48298148],\n",
       "       [ 0.63697204,  0.36302796],\n",
       "       [ 0.62380365,  0.37619635],\n",
       "       [ 0.47246405,  0.52753595],\n",
       "       [ 0.51163966,  0.48836034],\n",
       "       [ 0.44208855,  0.55791145],\n",
       "       [ 0.52420806,  0.47579194],\n",
       "       [ 0.44247422,  0.55752578],\n",
       "       [ 0.52206282,  0.47793718],\n",
       "       [ 0.54923739,  0.45076261],\n",
       "       [ 0.49424866,  0.50575134],\n",
       "       [ 0.51662808,  0.48337192],\n",
       "       [ 0.57810451,  0.42189549],\n",
       "       [ 0.47550576,  0.52449424],\n",
       "       [ 0.64305774,  0.35694226],\n",
       "       [ 0.47967147,  0.52032853],\n",
       "       [ 0.49576352,  0.50423648],\n",
       "       [ 0.4654894 ,  0.5345106 ],\n",
       "       [ 0.52120561,  0.47879439],\n",
       "       [ 0.60126759,  0.39873241],\n",
       "       [ 0.54023107,  0.45976893],\n",
       "       [ 0.5392719 ,  0.4607281 ],\n",
       "       [ 0.50956864,  0.49043136],\n",
       "       [ 0.56354705,  0.43645295],\n",
       "       [ 0.47909333,  0.52090667],\n",
       "       [ 0.53433104,  0.46566896],\n",
       "       [ 0.48409089,  0.51590911],\n",
       "       [ 0.62282981,  0.37717019],\n",
       "       [ 0.47569357,  0.52430643],\n",
       "       [ 0.62207863,  0.37792137],\n",
       "       [ 0.63312376,  0.36687624],\n",
       "       [ 0.52752164,  0.47247836],\n",
       "       [ 0.63953201,  0.36046799],\n",
       "       [ 0.50854327,  0.49145673],\n",
       "       [ 0.49302771,  0.50697229],\n",
       "       [ 0.48767581,  0.51232419]])"
      ]
     },
     "execution_count": 105,
     "metadata": {},
     "output_type": "execute_result"
    }
   ],
   "source": [
    "# generate shot probabilities\n",
    "probability = model_2.predict_proba(data_test)\n",
    "probability"
   ]
  },
  {
   "cell_type": "markdown",
   "metadata": {},
   "source": [
    "This is predicting a made shot (1) any time column two is greater than 0.5"
   ]
  },
  {
   "cell_type": "code",
   "execution_count": 106,
   "metadata": {
    "collapsed": false
   },
   "outputs": [
    {
     "name": "stdout",
     "output_type": "stream",
     "text": [
      "0.505154639175\n",
      "0.468859649123\n"
     ]
    }
   ],
   "source": [
    "# evaluation metrics\n",
    "print (metrics.accuracy_score(y_test, predicted))\n",
    "print (metrics.roc_auc_score(y_test, probability[:, 1]))"
   ]
  },
  {
   "cell_type": "markdown",
   "metadata": {},
   "source": [
    "#### Still not looking very good. Let's try again with one more predictor."
   ]
  },
  {
   "cell_type": "markdown",
   "metadata": {},
   "source": [
    "I want to add current shooting percentage as fourth predictor."
   ]
  },
  {
   "cell_type": "code",
   "execution_count": 107,
   "metadata": {
    "collapsed": false
   },
   "outputs": [],
   "source": [
    "numShots = list(range(1,647))\n",
    "curry_threes.set_index([numShots])\n",
    "curry_threes['numShotsTaken'] = pd.Series(numShots, index=curry_threes.index)\n",
    "curry_threes['curryShotsMade'] = (curry_threes['SHOT_MADE_FLAG'].cumsum())\n",
    "curry_threes['currentShooting'] = (curry_threes['curryShotsMade']/curry_threes['numShotsTaken'])"
   ]
  },
  {
   "cell_type": "code",
   "execution_count": 108,
   "metadata": {
    "collapsed": false
   },
   "outputs": [],
   "source": [
    "clean_curry_threes = curry_threes[['PERIOD_x', 'MINUTES_REMAINING', \n",
    "                                   'stephConsecutiveSeconds', 'SHOT_MADE_FLAG','currentShooting']].copy()"
   ]
  },
  {
   "cell_type": "code",
   "execution_count": 110,
   "metadata": {
    "collapsed": false
   },
   "outputs": [
    {
     "data": {
      "text/html": [
       "<div>\n",
       "<table border=\"1\" class=\"dataframe\">\n",
       "  <thead>\n",
       "    <tr style=\"text-align: right;\">\n",
       "      <th></th>\n",
       "      <th>PERIOD_x</th>\n",
       "      <th>MINUTES_REMAINING</th>\n",
       "      <th>stephConsecutiveSeconds</th>\n",
       "      <th>SHOT_MADE_FLAG</th>\n",
       "      <th>currentShooting</th>\n",
       "    </tr>\n",
       "  </thead>\n",
       "  <tbody>\n",
       "    <tr>\n",
       "      <th>0</th>\n",
       "      <td>1</td>\n",
       "      <td>5</td>\n",
       "      <td>411</td>\n",
       "      <td>0</td>\n",
       "      <td>0.000000</td>\n",
       "    </tr>\n",
       "    <tr>\n",
       "      <th>1</th>\n",
       "      <td>2</td>\n",
       "      <td>5</td>\n",
       "      <td>205</td>\n",
       "      <td>0</td>\n",
       "      <td>0.000000</td>\n",
       "    </tr>\n",
       "    <tr>\n",
       "      <th>2</th>\n",
       "      <td>3</td>\n",
       "      <td>10</td>\n",
       "      <td>102</td>\n",
       "      <td>0</td>\n",
       "      <td>0.000000</td>\n",
       "    </tr>\n",
       "    <tr>\n",
       "      <th>3</th>\n",
       "      <td>3</td>\n",
       "      <td>8</td>\n",
       "      <td>238</td>\n",
       "      <td>0</td>\n",
       "      <td>0.000000</td>\n",
       "    </tr>\n",
       "    <tr>\n",
       "      <th>4</th>\n",
       "      <td>3</td>\n",
       "      <td>4</td>\n",
       "      <td>454</td>\n",
       "      <td>1</td>\n",
       "      <td>0.200000</td>\n",
       "    </tr>\n",
       "    <tr>\n",
       "      <th>5</th>\n",
       "      <td>3</td>\n",
       "      <td>0</td>\n",
       "      <td>678</td>\n",
       "      <td>0</td>\n",
       "      <td>0.166667</td>\n",
       "    </tr>\n",
       "    <tr>\n",
       "      <th>6</th>\n",
       "      <td>4</td>\n",
       "      <td>2</td>\n",
       "      <td>98</td>\n",
       "      <td>0</td>\n",
       "      <td>0.142857</td>\n",
       "    </tr>\n",
       "    <tr>\n",
       "      <th>7</th>\n",
       "      <td>4</td>\n",
       "      <td>1</td>\n",
       "      <td>139</td>\n",
       "      <td>1</td>\n",
       "      <td>0.250000</td>\n",
       "    </tr>\n",
       "    <tr>\n",
       "      <th>8</th>\n",
       "      <td>4</td>\n",
       "      <td>0</td>\n",
       "      <td>200</td>\n",
       "      <td>0</td>\n",
       "      <td>0.222222</td>\n",
       "    </tr>\n",
       "    <tr>\n",
       "      <th>9</th>\n",
       "      <td>1</td>\n",
       "      <td>6</td>\n",
       "      <td>339</td>\n",
       "      <td>0</td>\n",
       "      <td>0.200000</td>\n",
       "    </tr>\n",
       "  </tbody>\n",
       "</table>\n",
       "</div>"
      ],
      "text/plain": [
       "   PERIOD_x  MINUTES_REMAINING  stephConsecutiveSeconds  SHOT_MADE_FLAG  \\\n",
       "0         1                  5                      411               0   \n",
       "1         2                  5                      205               0   \n",
       "2         3                 10                      102               0   \n",
       "3         3                  8                      238               0   \n",
       "4         3                  4                      454               1   \n",
       "5         3                  0                      678               0   \n",
       "6         4                  2                       98               0   \n",
       "7         4                  1                      139               1   \n",
       "8         4                  0                      200               0   \n",
       "9         1                  6                      339               0   \n",
       "\n",
       "   currentShooting  \n",
       "0         0.000000  \n",
       "1         0.000000  \n",
       "2         0.000000  \n",
       "3         0.000000  \n",
       "4         0.200000  \n",
       "5         0.166667  \n",
       "6         0.142857  \n",
       "7         0.250000  \n",
       "8         0.222222  \n",
       "9         0.200000  "
      ]
     },
     "execution_count": 110,
     "metadata": {},
     "output_type": "execute_result"
    }
   ],
   "source": [
    "clean_curry_threes.head(10)"
   ]
  },
  {
   "cell_type": "markdown",
   "metadata": {},
   "source": [
    "### Re-do Logistic Regression with current shooting percentage as fourth predictor"
   ]
  },
  {
   "cell_type": "markdown",
   "metadata": {},
   "source": [
    "#### Prepare Data for Logistic Regression"
   ]
  },
  {
   "cell_type": "code",
   "execution_count": 111,
   "metadata": {
    "collapsed": false
   },
   "outputs": [],
   "source": [
    "dummy_period = pd.get_dummies(clean_curry_threes['PERIOD_x'], prefix='Period')"
   ]
  },
  {
   "cell_type": "code",
   "execution_count": 112,
   "metadata": {
    "collapsed": false
   },
   "outputs": [
    {
     "data": {
      "text/html": [
       "<div>\n",
       "<table border=\"1\" class=\"dataframe\">\n",
       "  <thead>\n",
       "    <tr style=\"text-align: right;\">\n",
       "      <th></th>\n",
       "      <th>MINUTES_REMAINING</th>\n",
       "      <th>stephConsecutiveSeconds</th>\n",
       "      <th>SHOT_MADE_FLAG</th>\n",
       "      <th>currentShooting</th>\n",
       "    </tr>\n",
       "  </thead>\n",
       "  <tbody>\n",
       "    <tr>\n",
       "      <th>0</th>\n",
       "      <td>5</td>\n",
       "      <td>411</td>\n",
       "      <td>0</td>\n",
       "      <td>0.0</td>\n",
       "    </tr>\n",
       "    <tr>\n",
       "      <th>1</th>\n",
       "      <td>5</td>\n",
       "      <td>205</td>\n",
       "      <td>0</td>\n",
       "      <td>0.0</td>\n",
       "    </tr>\n",
       "    <tr>\n",
       "      <th>2</th>\n",
       "      <td>10</td>\n",
       "      <td>102</td>\n",
       "      <td>0</td>\n",
       "      <td>0.0</td>\n",
       "    </tr>\n",
       "    <tr>\n",
       "      <th>3</th>\n",
       "      <td>8</td>\n",
       "      <td>238</td>\n",
       "      <td>0</td>\n",
       "      <td>0.0</td>\n",
       "    </tr>\n",
       "    <tr>\n",
       "      <th>4</th>\n",
       "      <td>4</td>\n",
       "      <td>454</td>\n",
       "      <td>1</td>\n",
       "      <td>0.2</td>\n",
       "    </tr>\n",
       "  </tbody>\n",
       "</table>\n",
       "</div>"
      ],
      "text/plain": [
       "   MINUTES_REMAINING  stephConsecutiveSeconds  SHOT_MADE_FLAG  currentShooting\n",
       "0                  5                      411               0              0.0\n",
       "1                  5                      205               0              0.0\n",
       "2                 10                      102               0              0.0\n",
       "3                  8                      238               0              0.0\n",
       "4                  4                      454               1              0.2"
      ]
     },
     "execution_count": 112,
     "metadata": {},
     "output_type": "execute_result"
    }
   ],
   "source": [
    "del clean_curry_threes['PERIOD_x']\n",
    "clean_curry_threes.head()"
   ]
  },
  {
   "cell_type": "code",
   "execution_count": 1,
   "metadata": {
    "collapsed": false
   },
   "outputs": [
    {
     "ename": "NameError",
     "evalue": "name 'clean_curry_threes' is not defined",
     "output_type": "error",
     "traceback": [
      "\u001b[0;31m---------------------------------------------------------------------------\u001b[0m",
      "\u001b[0;31mNameError\u001b[0m                                 Traceback (most recent call last)",
      "\u001b[0;32m<ipython-input-1-2e65453704c4>\u001b[0m in \u001b[0;36m<module>\u001b[0;34m()\u001b[0m\n\u001b[0;32m----> 1\u001b[0;31m \u001b[0mdata\u001b[0m \u001b[0;34m=\u001b[0m \u001b[0mclean_curry_threes\u001b[0m\u001b[0;34m.\u001b[0m\u001b[0mjoin\u001b[0m\u001b[0;34m(\u001b[0m\u001b[0mdummy_period\u001b[0m\u001b[0;34m.\u001b[0m\u001b[0mix\u001b[0m\u001b[0;34m[\u001b[0m\u001b[0;34m:\u001b[0m\u001b[0;34m,\u001b[0m \u001b[0;34m'Period_1'\u001b[0m\u001b[0;34m:\u001b[0m\u001b[0;34m]\u001b[0m\u001b[0;34m)\u001b[0m\u001b[0;34m\u001b[0m\u001b[0m\n\u001b[0m\u001b[1;32m      2\u001b[0m \u001b[0mdata\u001b[0m\u001b[0;34m\u001b[0m\u001b[0m\n",
      "\u001b[0;31mNameError\u001b[0m: name 'clean_curry_threes' is not defined"
     ]
    }
   ],
   "source": [
    "data = clean_curry_threes.join(dummy_period.ix[:, 'Period_1':])\n",
    "data"
   ]
  },
  {
   "cell_type": "code",
   "execution_count": 114,
   "metadata": {
    "collapsed": false
   },
   "outputs": [
    {
     "data": {
      "text/html": [
       "<div>\n",
       "<table border=\"1\" class=\"dataframe\">\n",
       "  <thead>\n",
       "    <tr style=\"text-align: right;\">\n",
       "      <th></th>\n",
       "      <th>MINUTES_REMAINING</th>\n",
       "      <th>stephConsecutiveSeconds</th>\n",
       "      <th>SHOT_MADE_FLAG</th>\n",
       "      <th>currentShooting</th>\n",
       "      <th>Period_1</th>\n",
       "      <th>Period_2</th>\n",
       "      <th>Period_3</th>\n",
       "      <th>Period_4</th>\n",
       "      <th>Period_5</th>\n",
       "      <th>intercept</th>\n",
       "    </tr>\n",
       "  </thead>\n",
       "  <tbody>\n",
       "    <tr>\n",
       "      <th>0</th>\n",
       "      <td>5</td>\n",
       "      <td>411</td>\n",
       "      <td>0</td>\n",
       "      <td>0.0</td>\n",
       "      <td>1</td>\n",
       "      <td>0</td>\n",
       "      <td>0</td>\n",
       "      <td>0</td>\n",
       "      <td>0</td>\n",
       "      <td>1</td>\n",
       "    </tr>\n",
       "    <tr>\n",
       "      <th>1</th>\n",
       "      <td>5</td>\n",
       "      <td>205</td>\n",
       "      <td>0</td>\n",
       "      <td>0.0</td>\n",
       "      <td>0</td>\n",
       "      <td>1</td>\n",
       "      <td>0</td>\n",
       "      <td>0</td>\n",
       "      <td>0</td>\n",
       "      <td>1</td>\n",
       "    </tr>\n",
       "    <tr>\n",
       "      <th>2</th>\n",
       "      <td>10</td>\n",
       "      <td>102</td>\n",
       "      <td>0</td>\n",
       "      <td>0.0</td>\n",
       "      <td>0</td>\n",
       "      <td>0</td>\n",
       "      <td>1</td>\n",
       "      <td>0</td>\n",
       "      <td>0</td>\n",
       "      <td>1</td>\n",
       "    </tr>\n",
       "    <tr>\n",
       "      <th>3</th>\n",
       "      <td>8</td>\n",
       "      <td>238</td>\n",
       "      <td>0</td>\n",
       "      <td>0.0</td>\n",
       "      <td>0</td>\n",
       "      <td>0</td>\n",
       "      <td>1</td>\n",
       "      <td>0</td>\n",
       "      <td>0</td>\n",
       "      <td>1</td>\n",
       "    </tr>\n",
       "    <tr>\n",
       "      <th>4</th>\n",
       "      <td>4</td>\n",
       "      <td>454</td>\n",
       "      <td>1</td>\n",
       "      <td>0.2</td>\n",
       "      <td>0</td>\n",
       "      <td>0</td>\n",
       "      <td>1</td>\n",
       "      <td>0</td>\n",
       "      <td>0</td>\n",
       "      <td>1</td>\n",
       "    </tr>\n",
       "  </tbody>\n",
       "</table>\n",
       "</div>"
      ],
      "text/plain": [
       "   MINUTES_REMAINING  stephConsecutiveSeconds  SHOT_MADE_FLAG  \\\n",
       "0                  5                      411               0   \n",
       "1                  5                      205               0   \n",
       "2                 10                      102               0   \n",
       "3                  8                      238               0   \n",
       "4                  4                      454               1   \n",
       "\n",
       "   currentShooting  Period_1  Period_2  Period_3  Period_4  Period_5  \\\n",
       "0              0.0         1         0         0         0         0   \n",
       "1              0.0         0         1         0         0         0   \n",
       "2              0.0         0         0         1         0         0   \n",
       "3              0.0         0         0         1         0         0   \n",
       "4              0.2         0         0         1         0         0   \n",
       "\n",
       "   intercept  \n",
       "0          1  \n",
       "1          1  \n",
       "2          1  \n",
       "3          1  \n",
       "4          1  "
      ]
     },
     "execution_count": 114,
     "metadata": {},
     "output_type": "execute_result"
    }
   ],
   "source": [
    "# manually add the intercept (statsmodels requires explicit declaration of intercept)\n",
    "data['intercept'] = 1.0\n",
    "data.head()"
   ]
  },
  {
   "cell_type": "code",
   "execution_count": 115,
   "metadata": {
    "collapsed": false
   },
   "outputs": [
    {
     "data": {
      "text/plain": [
       "(646,)"
      ]
     },
     "execution_count": 115,
     "metadata": {},
     "output_type": "execute_result"
    }
   ],
   "source": [
    "#make y into 1-D array of SHOT_MADE_FLAg\n",
    "y = data['SHOT_MADE_FLAG']\n",
    "y = np.ravel(y)\n",
    "# remove shot made from dataframe\n",
    "del data['SHOT_MADE_FLAG']\n",
    "y.shape"
   ]
  },
  {
   "cell_type": "markdown",
   "metadata": {},
   "source": [
    "## Performing the Regression\n",
    "* Predicting shot made from minutes remaining, consecutive seconds on court,period, and current shooting percentage"
   ]
  },
  {
   "cell_type": "markdown",
   "metadata": {},
   "source": [
    "First run logistic regression on entire data set"
   ]
  },
  {
   "cell_type": "code",
   "execution_count": 116,
   "metadata": {
    "collapsed": false
   },
   "outputs": [
    {
     "data": {
      "text/plain": [
       "0.56965944272445823"
      ]
     },
     "execution_count": 116,
     "metadata": {},
     "output_type": "execute_result"
    }
   ],
   "source": [
    "# create logistic regression model, fit with data and y\n",
    "model = LogisticRegression()\n",
    "model = model.fit(data, y)\n",
    "\n",
    "# check the accuracy of training set\n",
    "model.score(data, y)"
   ]
  },
  {
   "cell_type": "markdown",
   "metadata": {},
   "source": [
    "### Test/Train Split"
   ]
  },
  {
   "cell_type": "code",
   "execution_count": 117,
   "metadata": {
    "collapsed": false
   },
   "outputs": [
    {
     "data": {
      "text/plain": [
       "LogisticRegression(C=1.0, class_weight=None, dual=False, fit_intercept=True,\n",
       "          intercept_scaling=1, max_iter=100, multi_class='ovr', n_jobs=1,\n",
       "          penalty='l2', random_state=None, solver='liblinear', tol=0.0001,\n",
       "          verbose=0, warm_start=False)"
      ]
     },
     "execution_count": 117,
     "metadata": {},
     "output_type": "execute_result"
    }
   ],
   "source": [
    "# evaluate model by splitting into train and test \n",
    "data_train, data_test, y_train, y_test = train_test_split(data, y, test_size=0.3, random_state=0)\n",
    "model_2 = LogisticRegression()\n",
    "model_2.fit(data_train, y_train)"
   ]
  },
  {
   "cell_type": "code",
   "execution_count": 118,
   "metadata": {
    "collapsed": false
   },
   "outputs": [
    {
     "data": {
      "text/plain": [
       "array([0, 0, 0, 1, 0, 1, 1, 0, 0, 0, 0, 1, 0, 0, 0, 0, 1, 0, 0, 0, 0, 0, 0,\n",
       "       1, 1, 1, 0, 0, 1, 0, 0, 0, 0, 0, 0, 1, 0, 1, 0, 0, 0, 0, 1, 0, 1, 0,\n",
       "       0, 1, 0, 0, 0, 1, 0, 1, 1, 0, 0, 0, 0, 1, 1, 0, 0, 0, 0, 0, 0, 1, 0,\n",
       "       0, 0, 1, 0, 1, 0, 0, 0, 1, 1, 1, 0, 0, 0, 0, 0, 1, 0, 0, 0, 1, 0, 0,\n",
       "       0, 0, 0, 1, 1, 0, 0, 0, 0, 0, 0, 0, 1, 0, 0, 0, 0, 0, 0, 1, 0, 0, 0,\n",
       "       0, 0, 0, 0, 0, 0, 1, 1, 0, 1, 0, 0, 0, 0, 0, 1, 0, 0, 0, 1, 0, 0, 0,\n",
       "       1, 1, 0, 0, 0, 0, 0, 0, 0, 0, 1, 0, 0, 0, 0, 1, 1, 0, 0, 0, 0, 0, 0,\n",
       "       1, 0, 1, 0, 1, 0, 0, 1, 0, 0, 1, 0, 1, 1, 1, 0, 0, 0, 0, 0, 0, 1, 0,\n",
       "       1, 0, 1, 0, 0, 0, 0, 0, 1, 1])"
      ]
     },
     "execution_count": 118,
     "metadata": {},
     "output_type": "execute_result"
    }
   ],
   "source": [
    "# predict made shot labels for test set\n",
    "predicted = model_2.predict(data_test)\n",
    "predicted"
   ]
  },
  {
   "cell_type": "code",
   "execution_count": 119,
   "metadata": {
    "collapsed": false
   },
   "outputs": [
    {
     "name": "stdout",
     "output_type": "stream",
     "text": [
      "0.505154639175\n",
      "0.468859649123\n"
     ]
    }
   ],
   "source": [
    "# evaluation metrics\n",
    "print (metrics.accuracy_score(y_test, predicted))\n",
    "print (metrics.roc_auc_score(y_test, probability[:, 1]))"
   ]
  },
  {
   "cell_type": "markdown",
   "metadata": {},
   "source": [
    "#### Still not much better than last time"
   ]
  },
  {
   "cell_type": "code",
   "execution_count": 120,
   "metadata": {
    "collapsed": false
   },
   "outputs": [
    {
     "name": "stdout",
     "output_type": "stream",
     "text": [
      "[ 0.55384615  0.52307692  0.49230769  0.50769231  0.44615385  0.49230769\n",
      "  0.578125    0.546875    0.578125    0.578125  ]\n",
      "0.529663461538\n"
     ]
    }
   ],
   "source": [
    "# evaluate model w/ 10-fold cross-validation\n",
    "scores = cross_val_score(LogisticRegression(), data, y, scoring='accuracy', cv=10)\n",
    "print (scores)\n",
    "print (scores.mean())"
   ]
  },
  {
   "cell_type": "markdown",
   "metadata": {},
   "source": [
    "###  Conclusion: Steph Curry is too good."
   ]
  },
  {
   "cell_type": "code",
   "execution_count": null,
   "metadata": {
    "collapsed": true
   },
   "outputs": [],
   "source": []
  }
 ],
 "metadata": {
  "kernelspec": {
   "display_name": "Python 2",
   "language": "python",
   "name": "python2"
  },
  "language_info": {
   "codemirror_mode": {
    "name": "ipython",
    "version": 2
   },
   "file_extension": ".py",
   "mimetype": "text/x-python",
   "name": "python",
   "nbconvert_exporter": "python",
   "pygments_lexer": "ipython2",
   "version": "2.7.11"
  }
 },
 "nbformat": 4,
 "nbformat_minor": 0
}
