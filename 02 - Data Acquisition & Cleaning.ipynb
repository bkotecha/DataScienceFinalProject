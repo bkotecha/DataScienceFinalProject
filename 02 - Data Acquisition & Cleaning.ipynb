{
 "cells": [
  {
   "cell_type": "markdown",
   "metadata": {},
   "source": [
    "# Acquiring NBA Data\n",
    "\n",
    "* Stephen Curry shots data from 2014-15 season\n",
    "* Play by Play data for each GSW game last season \n",
    "* nbashots package by @savvastj on github\n",
    "* stats.nba.com API"
   ]
  },
  {
   "cell_type": "code",
   "execution_count": 1,
   "metadata": {
    "collapsed": false
   },
   "outputs": [
    {
     "name": "stderr",
     "output_type": "stream",
     "text": [
      "/usr/local/lib/python3.4/dist-packages/matplotlib/__init__.py:872: UserWarning: axes.color_cycle is deprecated and replaced with axes.prop_cycle; please use the latter.\n",
      "  warnings.warn(self.msg_depr % (key, alt_key))\n"
     ]
    }
   ],
   "source": [
    "%matplotlib inline\n",
    "import requests\n",
    "import matplotlib.pyplot as plt\n",
    "import pandas as pd\n",
    "import seaborn as sns\n",
    "import numpy as np\n",
    "import nbashots as nba # this will throw a warning if using matplotlib 1.5"
   ]
  },
  {
   "cell_type": "markdown",
   "metadata": {},
   "source": [
    "## First Get All Steph Curry Shots\n",
    "* only from 2014-15 season\n",
    "* use nbashots package"
   ]
  },
  {
   "cell_type": "code",
   "execution_count": 2,
   "metadata": {
    "collapsed": false
   },
   "outputs": [
    {
     "data": {
      "text/plain": [
       "201939"
      ]
     },
     "execution_count": 2,
     "metadata": {},
     "output_type": "execute_result"
    }
   ],
   "source": [
    "curry_id = nba.get_player_id(\"Curry, Stephen\")[0]\n",
    "curry_id"
   ]
  },
  {
   "cell_type": "code",
   "execution_count": 3,
   "metadata": {
    "collapsed": true
   },
   "outputs": [],
   "source": [
    "shots = nba.Shots()"
   ]
  },
  {
   "cell_type": "code",
   "execution_count": 4,
   "metadata": {
    "collapsed": false
   },
   "outputs": [
    {
     "data": {
      "text/plain": [
       "{'AheadBehind': '',\n",
       " 'ClutchTime': '',\n",
       " 'ContextFilter': '',\n",
       " 'ContextMeasure': 'FGA',\n",
       " 'DateFrom': '',\n",
       " 'DateTo': '',\n",
       " 'EndPeriod': '',\n",
       " 'EndRange': '',\n",
       " 'GameID': '',\n",
       " 'GameSegment': '',\n",
       " 'LastNGames': 0,\n",
       " 'LeagueID': '00',\n",
       " 'Location': '',\n",
       " 'Month': 0,\n",
       " 'OpponentTeamID': 0,\n",
       " 'Outcome': '',\n",
       " 'Period': 0,\n",
       " 'PlayerID': 0,\n",
       " 'PointDiff': '',\n",
       " 'Position': '',\n",
       " 'RangeType': '',\n",
       " 'RookieYear': '',\n",
       " 'Season': '2015-16',\n",
       " 'SeasonSegment': '',\n",
       " 'SeasonType': 'Regular Season',\n",
       " 'StartPeriod': '',\n",
       " 'StartRange': '',\n",
       " 'TeamID': 0,\n",
       " 'VsConference': '',\n",
       " 'VsDivision': ''}"
      ]
     },
     "execution_count": 4,
     "metadata": {},
     "output_type": "execute_result"
    }
   ],
   "source": [
    "shots.url_paramaters"
   ]
  },
  {
   "cell_type": "code",
   "execution_count": 5,
   "metadata": {
    "collapsed": false
   },
   "outputs": [
    {
     "data": {
      "text/plain": [
       "{'AheadBehind': '',\n",
       " 'ClutchTime': '',\n",
       " 'ContextFilter': '',\n",
       " 'ContextMeasure': 'FGA',\n",
       " 'DateFrom': '',\n",
       " 'DateTo': '',\n",
       " 'EndPeriod': '',\n",
       " 'EndRange': '',\n",
       " 'GameID': '',\n",
       " 'GameSegment': '',\n",
       " 'LastNGames': 0,\n",
       " 'LeagueID': '00',\n",
       " 'Location': '',\n",
       " 'Month': 0,\n",
       " 'OpponentTeamID': 0,\n",
       " 'Outcome': '',\n",
       " 'Period': 0,\n",
       " 'PlayerID': 0,\n",
       " 'PointDiff': '',\n",
       " 'Position': '',\n",
       " 'RangeType': '',\n",
       " 'RookieYear': '',\n",
       " 'Season': '2014-15',\n",
       " 'SeasonSegment': '',\n",
       " 'SeasonType': 'Regular Season',\n",
       " 'StartPeriod': '',\n",
       " 'StartRange': '',\n",
       " 'TeamID': 0,\n",
       " 'VsConference': '',\n",
       " 'VsDivision': ''}"
      ]
     },
     "execution_count": 5,
     "metadata": {},
     "output_type": "execute_result"
    }
   ],
   "source": [
    "# update Season parameter to '2014-15'\n",
    "shots.update_params({'Season':'2014-15'})\n",
    "# updated parameters\n",
    "shots.url_paramaters"
   ]
  },
  {
   "cell_type": "markdown",
   "metadata": {},
   "source": [
    "First get all shots taken in the NBA last year"
   ]
  },
  {
   "cell_type": "code",
   "execution_count": 6,
   "metadata": {
    "collapsed": false
   },
   "outputs": [
    {
     "data": {
      "text/html": [
       "<div>\n",
       "<table border=\"1\" class=\"dataframe\">\n",
       "  <thead>\n",
       "    <tr style=\"text-align: right;\">\n",
       "      <th></th>\n",
       "      <th>GRID_TYPE</th>\n",
       "      <th>GAME_ID</th>\n",
       "      <th>GAME_EVENT_ID</th>\n",
       "      <th>PLAYER_ID</th>\n",
       "      <th>PLAYER_NAME</th>\n",
       "      <th>TEAM_ID</th>\n",
       "      <th>TEAM_NAME</th>\n",
       "      <th>PERIOD</th>\n",
       "      <th>MINUTES_REMAINING</th>\n",
       "      <th>SECONDS_REMAINING</th>\n",
       "      <th>...</th>\n",
       "      <th>ACTION_TYPE</th>\n",
       "      <th>SHOT_TYPE</th>\n",
       "      <th>SHOT_ZONE_BASIC</th>\n",
       "      <th>SHOT_ZONE_AREA</th>\n",
       "      <th>SHOT_ZONE_RANGE</th>\n",
       "      <th>SHOT_DISTANCE</th>\n",
       "      <th>LOC_X</th>\n",
       "      <th>LOC_Y</th>\n",
       "      <th>SHOT_ATTEMPTED_FLAG</th>\n",
       "      <th>SHOT_MADE_FLAG</th>\n",
       "    </tr>\n",
       "  </thead>\n",
       "  <tbody>\n",
       "    <tr>\n",
       "      <th>0</th>\n",
       "      <td>Shot Chart Detail</td>\n",
       "      <td>0021400001</td>\n",
       "      <td>2</td>\n",
       "      <td>203076</td>\n",
       "      <td>Anthony Davis</td>\n",
       "      <td>1610612740</td>\n",
       "      <td>New Orleans Pelicans</td>\n",
       "      <td>1</td>\n",
       "      <td>11</td>\n",
       "      <td>43</td>\n",
       "      <td>...</td>\n",
       "      <td>Jump Shot</td>\n",
       "      <td>2PT Field Goal</td>\n",
       "      <td>Mid-Range</td>\n",
       "      <td>Center(C)</td>\n",
       "      <td>16-24 ft.</td>\n",
       "      <td>20</td>\n",
       "      <td>50</td>\n",
       "      <td>194</td>\n",
       "      <td>1</td>\n",
       "      <td>0</td>\n",
       "    </tr>\n",
       "    <tr>\n",
       "      <th>1</th>\n",
       "      <td>Shot Chart Detail</td>\n",
       "      <td>0021400001</td>\n",
       "      <td>4</td>\n",
       "      <td>202696</td>\n",
       "      <td>Nikola Vucevic</td>\n",
       "      <td>1610612753</td>\n",
       "      <td>Orlando Magic</td>\n",
       "      <td>1</td>\n",
       "      <td>11</td>\n",
       "      <td>31</td>\n",
       "      <td>...</td>\n",
       "      <td>Jump Bank Shot</td>\n",
       "      <td>2PT Field Goal</td>\n",
       "      <td>Mid-Range</td>\n",
       "      <td>Center(C)</td>\n",
       "      <td>16-24 ft.</td>\n",
       "      <td>18</td>\n",
       "      <td>-8</td>\n",
       "      <td>189</td>\n",
       "      <td>1</td>\n",
       "      <td>1</td>\n",
       "    </tr>\n",
       "    <tr>\n",
       "      <th>2</th>\n",
       "      <td>Shot Chart Detail</td>\n",
       "      <td>0021400001</td>\n",
       "      <td>7</td>\n",
       "      <td>203076</td>\n",
       "      <td>Anthony Davis</td>\n",
       "      <td>1610612740</td>\n",
       "      <td>New Orleans Pelicans</td>\n",
       "      <td>1</td>\n",
       "      <td>11</td>\n",
       "      <td>6</td>\n",
       "      <td>...</td>\n",
       "      <td>Jump Shot</td>\n",
       "      <td>2PT Field Goal</td>\n",
       "      <td>Mid-Range</td>\n",
       "      <td>Left Side Center(LC)</td>\n",
       "      <td>16-24 ft.</td>\n",
       "      <td>18</td>\n",
       "      <td>-131</td>\n",
       "      <td>127</td>\n",
       "      <td>1</td>\n",
       "      <td>0</td>\n",
       "    </tr>\n",
       "    <tr>\n",
       "      <th>3</th>\n",
       "      <td>Shot Chart Detail</td>\n",
       "      <td>0021400001</td>\n",
       "      <td>9</td>\n",
       "      <td>203901</td>\n",
       "      <td>Elfrid Payton</td>\n",
       "      <td>1610612753</td>\n",
       "      <td>Orlando Magic</td>\n",
       "      <td>1</td>\n",
       "      <td>10</td>\n",
       "      <td>54</td>\n",
       "      <td>...</td>\n",
       "      <td>Layup Shot</td>\n",
       "      <td>2PT Field Goal</td>\n",
       "      <td>Restricted Area</td>\n",
       "      <td>Center(C)</td>\n",
       "      <td>Less Than 8 ft.</td>\n",
       "      <td>1</td>\n",
       "      <td>-15</td>\n",
       "      <td>4</td>\n",
       "      <td>1</td>\n",
       "      <td>0</td>\n",
       "    </tr>\n",
       "    <tr>\n",
       "      <th>4</th>\n",
       "      <td>Shot Chart Detail</td>\n",
       "      <td>0021400001</td>\n",
       "      <td>25</td>\n",
       "      <td>203076</td>\n",
       "      <td>Anthony Davis</td>\n",
       "      <td>1610612740</td>\n",
       "      <td>New Orleans Pelicans</td>\n",
       "      <td>1</td>\n",
       "      <td>10</td>\n",
       "      <td>29</td>\n",
       "      <td>...</td>\n",
       "      <td>Dunk Shot</td>\n",
       "      <td>2PT Field Goal</td>\n",
       "      <td>Restricted Area</td>\n",
       "      <td>Center(C)</td>\n",
       "      <td>Less Than 8 ft.</td>\n",
       "      <td>0</td>\n",
       "      <td>0</td>\n",
       "      <td>1</td>\n",
       "      <td>1</td>\n",
       "      <td>1</td>\n",
       "    </tr>\n",
       "  </tbody>\n",
       "</table>\n",
       "<p>5 rows × 21 columns</p>\n",
       "</div>"
      ],
      "text/plain": [
       "           GRID_TYPE     GAME_ID  GAME_EVENT_ID  PLAYER_ID     PLAYER_NAME  \\\n",
       "0  Shot Chart Detail  0021400001              2     203076   Anthony Davis   \n",
       "1  Shot Chart Detail  0021400001              4     202696  Nikola Vucevic   \n",
       "2  Shot Chart Detail  0021400001              7     203076   Anthony Davis   \n",
       "3  Shot Chart Detail  0021400001              9     203901   Elfrid Payton   \n",
       "4  Shot Chart Detail  0021400001             25     203076   Anthony Davis   \n",
       "\n",
       "      TEAM_ID             TEAM_NAME  PERIOD  MINUTES_REMAINING  \\\n",
       "0  1610612740  New Orleans Pelicans       1                 11   \n",
       "1  1610612753         Orlando Magic       1                 11   \n",
       "2  1610612740  New Orleans Pelicans       1                 11   \n",
       "3  1610612753         Orlando Magic       1                 10   \n",
       "4  1610612740  New Orleans Pelicans       1                 10   \n",
       "\n",
       "   SECONDS_REMAINING       ...           ACTION_TYPE       SHOT_TYPE  \\\n",
       "0                 43       ...             Jump Shot  2PT Field Goal   \n",
       "1                 31       ...        Jump Bank Shot  2PT Field Goal   \n",
       "2                  6       ...             Jump Shot  2PT Field Goal   \n",
       "3                 54       ...            Layup Shot  2PT Field Goal   \n",
       "4                 29       ...             Dunk Shot  2PT Field Goal   \n",
       "\n",
       "   SHOT_ZONE_BASIC        SHOT_ZONE_AREA  SHOT_ZONE_RANGE SHOT_DISTANCE  \\\n",
       "0        Mid-Range             Center(C)        16-24 ft.            20   \n",
       "1        Mid-Range             Center(C)        16-24 ft.            18   \n",
       "2        Mid-Range  Left Side Center(LC)        16-24 ft.            18   \n",
       "3  Restricted Area             Center(C)  Less Than 8 ft.             1   \n",
       "4  Restricted Area             Center(C)  Less Than 8 ft.             0   \n",
       "\n",
       "   LOC_X  LOC_Y  SHOT_ATTEMPTED_FLAG  SHOT_MADE_FLAG  \n",
       "0     50    194                    1               0  \n",
       "1     -8    189                    1               1  \n",
       "2   -131    127                    1               0  \n",
       "3    -15      4                    1               0  \n",
       "4      0      1                    1               1  \n",
       "\n",
       "[5 rows x 21 columns]"
      ]
     },
     "execution_count": 6,
     "metadata": {},
     "output_type": "execute_result"
    }
   ],
   "source": [
    "last_season_shots = shots.get_shots()\n",
    "last_season_shots.head()"
   ]
  },
  {
   "cell_type": "markdown",
   "metadata": {},
   "source": [
    "Create a dataframe that contains all of Steph's shots"
   ]
  },
  {
   "cell_type": "code",
   "execution_count": 7,
   "metadata": {
    "collapsed": false
   },
   "outputs": [
    {
     "data": {
      "text/html": [
       "<div>\n",
       "<table border=\"1\" class=\"dataframe\">\n",
       "  <thead>\n",
       "    <tr style=\"text-align: right;\">\n",
       "      <th></th>\n",
       "      <th>GRID_TYPE</th>\n",
       "      <th>GAME_ID</th>\n",
       "      <th>GAME_EVENT_ID</th>\n",
       "      <th>PLAYER_ID</th>\n",
       "      <th>PLAYER_NAME</th>\n",
       "      <th>TEAM_ID</th>\n",
       "      <th>TEAM_NAME</th>\n",
       "      <th>PERIOD</th>\n",
       "      <th>MINUTES_REMAINING</th>\n",
       "      <th>SECONDS_REMAINING</th>\n",
       "      <th>...</th>\n",
       "      <th>ACTION_TYPE</th>\n",
       "      <th>SHOT_TYPE</th>\n",
       "      <th>SHOT_ZONE_BASIC</th>\n",
       "      <th>SHOT_ZONE_AREA</th>\n",
       "      <th>SHOT_ZONE_RANGE</th>\n",
       "      <th>SHOT_DISTANCE</th>\n",
       "      <th>LOC_X</th>\n",
       "      <th>LOC_Y</th>\n",
       "      <th>SHOT_ATTEMPTED_FLAG</th>\n",
       "      <th>SHOT_MADE_FLAG</th>\n",
       "    </tr>\n",
       "  </thead>\n",
       "  <tbody>\n",
       "    <tr>\n",
       "      <th>2166</th>\n",
       "      <td>Shot Chart Detail</td>\n",
       "      <td>0021400014</td>\n",
       "      <td>50</td>\n",
       "      <td>201939</td>\n",
       "      <td>Stephen Curry</td>\n",
       "      <td>1610612744</td>\n",
       "      <td>Golden State Warriors</td>\n",
       "      <td>1</td>\n",
       "      <td>7</td>\n",
       "      <td>29</td>\n",
       "      <td>...</td>\n",
       "      <td>Running Jump Shot</td>\n",
       "      <td>2PT Field Goal</td>\n",
       "      <td>Mid-Range</td>\n",
       "      <td>Left Side(L)</td>\n",
       "      <td>8-16 ft.</td>\n",
       "      <td>10</td>\n",
       "      <td>-81</td>\n",
       "      <td>72</td>\n",
       "      <td>1</td>\n",
       "      <td>1</td>\n",
       "    </tr>\n",
       "    <tr>\n",
       "      <th>2174</th>\n",
       "      <td>Shot Chart Detail</td>\n",
       "      <td>0021400014</td>\n",
       "      <td>74</td>\n",
       "      <td>201939</td>\n",
       "      <td>Stephen Curry</td>\n",
       "      <td>1610612744</td>\n",
       "      <td>Golden State Warriors</td>\n",
       "      <td>1</td>\n",
       "      <td>5</td>\n",
       "      <td>9</td>\n",
       "      <td>...</td>\n",
       "      <td>Jump Shot</td>\n",
       "      <td>3PT Field Goal</td>\n",
       "      <td>Above the Break 3</td>\n",
       "      <td>Center(C)</td>\n",
       "      <td>24+ ft.</td>\n",
       "      <td>25</td>\n",
       "      <td>65</td>\n",
       "      <td>246</td>\n",
       "      <td>1</td>\n",
       "      <td>0</td>\n",
       "    </tr>\n",
       "    <tr>\n",
       "      <th>2206</th>\n",
       "      <td>Shot Chart Detail</td>\n",
       "      <td>0021400014</td>\n",
       "      <td>176</td>\n",
       "      <td>201939</td>\n",
       "      <td>Stephen Curry</td>\n",
       "      <td>1610612744</td>\n",
       "      <td>Golden State Warriors</td>\n",
       "      <td>2</td>\n",
       "      <td>8</td>\n",
       "      <td>49</td>\n",
       "      <td>...</td>\n",
       "      <td>Driving Layup Shot</td>\n",
       "      <td>2PT Field Goal</td>\n",
       "      <td>Restricted Area</td>\n",
       "      <td>Center(C)</td>\n",
       "      <td>Less Than 8 ft.</td>\n",
       "      <td>2</td>\n",
       "      <td>23</td>\n",
       "      <td>15</td>\n",
       "      <td>1</td>\n",
       "      <td>1</td>\n",
       "    </tr>\n",
       "    <tr>\n",
       "      <th>2210</th>\n",
       "      <td>Shot Chart Detail</td>\n",
       "      <td>0021400014</td>\n",
       "      <td>205</td>\n",
       "      <td>201939</td>\n",
       "      <td>Stephen Curry</td>\n",
       "      <td>1610612744</td>\n",
       "      <td>Golden State Warriors</td>\n",
       "      <td>2</td>\n",
       "      <td>6</td>\n",
       "      <td>43</td>\n",
       "      <td>...</td>\n",
       "      <td>Driving Layup Shot</td>\n",
       "      <td>2PT Field Goal</td>\n",
       "      <td>Restricted Area</td>\n",
       "      <td>Center(C)</td>\n",
       "      <td>Less Than 8 ft.</td>\n",
       "      <td>1</td>\n",
       "      <td>-11</td>\n",
       "      <td>7</td>\n",
       "      <td>1</td>\n",
       "      <td>1</td>\n",
       "    </tr>\n",
       "    <tr>\n",
       "      <th>2214</th>\n",
       "      <td>Shot Chart Detail</td>\n",
       "      <td>0021400014</td>\n",
       "      <td>227</td>\n",
       "      <td>201939</td>\n",
       "      <td>Stephen Curry</td>\n",
       "      <td>1610612744</td>\n",
       "      <td>Golden State Warriors</td>\n",
       "      <td>2</td>\n",
       "      <td>5</td>\n",
       "      <td>36</td>\n",
       "      <td>...</td>\n",
       "      <td>Jump Shot</td>\n",
       "      <td>3PT Field Goal</td>\n",
       "      <td>Above the Break 3</td>\n",
       "      <td>Left Side Center(LC)</td>\n",
       "      <td>24+ ft.</td>\n",
       "      <td>24</td>\n",
       "      <td>-164</td>\n",
       "      <td>187</td>\n",
       "      <td>1</td>\n",
       "      <td>0</td>\n",
       "    </tr>\n",
       "  </tbody>\n",
       "</table>\n",
       "<p>5 rows × 21 columns</p>\n",
       "</div>"
      ],
      "text/plain": [
       "              GRID_TYPE     GAME_ID  GAME_EVENT_ID  PLAYER_ID    PLAYER_NAME  \\\n",
       "2166  Shot Chart Detail  0021400014             50     201939  Stephen Curry   \n",
       "2174  Shot Chart Detail  0021400014             74     201939  Stephen Curry   \n",
       "2206  Shot Chart Detail  0021400014            176     201939  Stephen Curry   \n",
       "2210  Shot Chart Detail  0021400014            205     201939  Stephen Curry   \n",
       "2214  Shot Chart Detail  0021400014            227     201939  Stephen Curry   \n",
       "\n",
       "         TEAM_ID              TEAM_NAME  PERIOD  MINUTES_REMAINING  \\\n",
       "2166  1610612744  Golden State Warriors       1                  7   \n",
       "2174  1610612744  Golden State Warriors       1                  5   \n",
       "2206  1610612744  Golden State Warriors       2                  8   \n",
       "2210  1610612744  Golden State Warriors       2                  6   \n",
       "2214  1610612744  Golden State Warriors       2                  5   \n",
       "\n",
       "      SECONDS_REMAINING       ...               ACTION_TYPE       SHOT_TYPE  \\\n",
       "2166                 29       ...         Running Jump Shot  2PT Field Goal   \n",
       "2174                  9       ...                 Jump Shot  3PT Field Goal   \n",
       "2206                 49       ...        Driving Layup Shot  2PT Field Goal   \n",
       "2210                 43       ...        Driving Layup Shot  2PT Field Goal   \n",
       "2214                 36       ...                 Jump Shot  3PT Field Goal   \n",
       "\n",
       "        SHOT_ZONE_BASIC        SHOT_ZONE_AREA  SHOT_ZONE_RANGE SHOT_DISTANCE  \\\n",
       "2166          Mid-Range          Left Side(L)         8-16 ft.            10   \n",
       "2174  Above the Break 3             Center(C)          24+ ft.            25   \n",
       "2206    Restricted Area             Center(C)  Less Than 8 ft.             2   \n",
       "2210    Restricted Area             Center(C)  Less Than 8 ft.             1   \n",
       "2214  Above the Break 3  Left Side Center(LC)          24+ ft.            24   \n",
       "\n",
       "      LOC_X  LOC_Y  SHOT_ATTEMPTED_FLAG  SHOT_MADE_FLAG  \n",
       "2166    -81     72                    1               1  \n",
       "2174     65    246                    1               0  \n",
       "2206     23     15                    1               1  \n",
       "2210    -11      7                    1               1  \n",
       "2214   -164    187                    1               0  \n",
       "\n",
       "[5 rows x 21 columns]"
      ]
     },
     "execution_count": 7,
     "metadata": {},
     "output_type": "execute_result"
    }
   ],
   "source": [
    "curry_shots_df = last_season_shots[last_season_shots['PLAYER_ID'] == curry_id]\n",
    "curry_shots_df.head()"
   ]
  },
  {
   "cell_type": "markdown",
   "metadata": {},
   "source": [
    "Get game IDs for each game Steph played in last season"
   ]
  },
  {
   "cell_type": "code",
   "execution_count": 8,
   "metadata": {
    "collapsed": false
   },
   "outputs": [
    {
     "data": {
      "text/plain": [
       "80"
      ]
     },
     "execution_count": 8,
     "metadata": {},
     "output_type": "execute_result"
    }
   ],
   "source": [
    "all_steph_gameIDs = curry_shots_df['GAME_ID']\n",
    "played_gamesID = all_steph_gameIDs.unique()\n",
    "np.savetxt('/data/bkotecha/playedGames.txt',played_gamesID,delimiter=\", \",fmt=\"%s\") \n",
    "len(played_gamesID)"
   ]
  },
  {
   "cell_type": "markdown",
   "metadata": {},
   "source": [
    "Save curry_shots_df to CSV for later use"
   ]
  },
  {
   "cell_type": "code",
   "execution_count": 9,
   "metadata": {
    "collapsed": true
   },
   "outputs": [],
   "source": [
    "curry_shots_df.to_csv('/data/bkotecha/curryShots.csv')"
   ]
  },
  {
   "cell_type": "markdown",
   "metadata": {},
   "source": [
    "## Now Get Play-by-Play Data from NBA.com\n",
    "* PBP data of every GSW game from last season"
   ]
  },
  {
   "cell_type": "markdown",
   "metadata": {},
   "source": [
    "Retrieve all game IDs from saved .txt file"
   ]
  },
  {
   "cell_type": "code",
   "execution_count": 10,
   "metadata": {
    "collapsed": true
   },
   "outputs": [],
   "source": [
    "steph_game_ids = np.loadtxt('/data/bkotecha/playedGames.txt', dtype= str)"
   ]
  },
  {
   "cell_type": "code",
   "execution_count": 11,
   "metadata": {
    "collapsed": false
   },
   "outputs": [
    {
     "data": {
      "text/plain": [
       "\"b'0021400014'\""
      ]
     },
     "execution_count": 11,
     "metadata": {},
     "output_type": "execute_result"
    }
   ],
   "source": [
    "steph_game_ids[0]"
   ]
  },
  {
   "cell_type": "code",
   "execution_count": 12,
   "metadata": {
    "collapsed": true
   },
   "outputs": [],
   "source": [
    "steph_game_ids = list(map(lambda s: s.replace('b' , ''), steph_game_ids))\n",
    "steph_game_ids = list(map(lambda s: s.replace(\"'\" , ''), steph_game_ids))"
   ]
  },
  {
   "cell_type": "code",
   "execution_count": 13,
   "metadata": {
    "collapsed": false
   },
   "outputs": [
    {
     "data": {
      "text/plain": [
       "'0021400014'"
      ]
     },
     "execution_count": 13,
     "metadata": {},
     "output_type": "execute_result"
    }
   ],
   "source": [
    "steph_game_ids[0]"
   ]
  },
  {
   "cell_type": "markdown",
   "metadata": {},
   "source": [
    "Now use requests library to get JSON files from stats.nba.com for each game and save as CSV"
   ]
  },
  {
   "cell_type": "code",
   "execution_count": 14,
   "metadata": {
    "collapsed": false
   },
   "outputs": [
    {
     "name": "stdout",
     "output_type": "stream",
     "text": [
      "getting json for game: \n",
      "0\n",
      "getting json for game: \n",
      "1\n",
      "getting json for game: \n",
      "2\n",
      "getting json for game: \n",
      "3\n",
      "getting json for game: \n",
      "4\n",
      "getting json for game: \n",
      "5\n",
      "getting json for game: \n",
      "6\n",
      "getting json for game: \n",
      "7\n",
      "getting json for game: \n",
      "8\n",
      "getting json for game: \n",
      "9\n",
      "getting json for game: \n",
      "10\n",
      "getting json for game: \n",
      "11\n",
      "getting json for game: \n",
      "12\n",
      "getting json for game: \n",
      "13\n",
      "getting json for game: \n",
      "14\n",
      "getting json for game: \n",
      "15\n",
      "getting json for game: \n",
      "16\n",
      "getting json for game: \n",
      "17\n",
      "getting json for game: \n",
      "18\n",
      "getting json for game: \n",
      "19\n",
      "getting json for game: \n",
      "20\n",
      "getting json for game: \n",
      "21\n",
      "getting json for game: \n",
      "22\n",
      "getting json for game: \n",
      "23\n",
      "getting json for game: \n",
      "24\n",
      "getting json for game: \n",
      "25\n",
      "getting json for game: \n",
      "26\n",
      "getting json for game: \n",
      "27\n",
      "getting json for game: \n",
      "28\n",
      "getting json for game: \n",
      "29\n",
      "getting json for game: \n",
      "30\n",
      "getting json for game: \n",
      "31\n",
      "getting json for game: \n",
      "32\n",
      "getting json for game: \n",
      "33\n",
      "getting json for game: \n",
      "34\n",
      "getting json for game: \n",
      "35\n",
      "getting json for game: \n",
      "36\n",
      "getting json for game: \n",
      "37\n",
      "getting json for game: \n",
      "38\n",
      "getting json for game: \n",
      "39\n",
      "getting json for game: \n",
      "40\n",
      "getting json for game: \n",
      "41\n",
      "getting json for game: \n",
      "42\n",
      "getting json for game: \n",
      "43\n",
      "getting json for game: \n",
      "44\n",
      "getting json for game: \n",
      "45\n",
      "getting json for game: \n",
      "46\n",
      "getting json for game: \n",
      "47\n",
      "getting json for game: \n",
      "48\n",
      "getting json for game: \n",
      "49\n",
      "getting json for game: \n",
      "50\n",
      "getting json for game: \n",
      "51\n",
      "getting json for game: \n",
      "52\n",
      "getting json for game: \n",
      "53\n",
      "getting json for game: \n",
      "54\n",
      "getting json for game: \n",
      "55\n",
      "getting json for game: \n",
      "56\n",
      "getting json for game: \n",
      "57\n",
      "getting json for game: \n",
      "58\n",
      "getting json for game: \n",
      "59\n",
      "getting json for game: \n",
      "60\n",
      "getting json for game: \n",
      "61\n",
      "getting json for game: \n",
      "62\n",
      "getting json for game: \n",
      "63\n",
      "getting json for game: \n",
      "64\n",
      "getting json for game: \n",
      "65\n",
      "getting json for game: \n",
      "66\n",
      "getting json for game: \n",
      "67\n",
      "getting json for game: \n",
      "68\n",
      "getting json for game: \n",
      "69\n",
      "getting json for game: \n",
      "70\n",
      "getting json for game: \n",
      "71\n",
      "getting json for game: \n",
      "72\n",
      "getting json for game: \n",
      "73\n",
      "getting json for game: \n",
      "74\n",
      "getting json for game: \n",
      "75\n",
      "getting json for game: \n",
      "76\n",
      "getting json for game: \n",
      "77\n",
      "getting json for game: \n",
      "78\n",
      "getting json for game: \n",
      "79\n"
     ]
    }
   ],
   "source": [
    "headers = {'User-Agent': 'Mozilla/5.0 (Macintosh; Intel Mac OS X 10.10; rv:39.0) Gecko/20100101 Firefox/39.0'}\n",
    "\n",
    "for i in range(0,len(steph_game_ids)):\n",
    "    filePath = \"/data/bkotecha/games/\"\n",
    "    pbp_url = 'http://stats.nba.com/stats/playbyplayv2?EndPeriod=10&EndRange=55800&GameID='+steph_game_ids[i]+'&RangeType=2&Season=2014-15&SeasonType=Regular+Season&StartPeriod=1&StartRange=0'\n",
    "    print(\"getting json for game: \")\n",
    "    print(i)\n",
    "    response = requests.get(pbp_url,headers=headers)\n",
    "    heads = response.json()['resultSets'][0]['headers']\n",
    "    response.raise_for_status() # raise exception if invalid response\n",
    "    pbp = response.json()['resultSets'][0]['rowSet']\n",
    "    pbp_df = pd.DataFrame(pbp, columns=heads)\n",
    "    filePath += steph_game_ids[i] + '.csv'\n",
    "    pbp_df.to_csv(filePath)"
   ]
  },
  {
   "cell_type": "markdown",
   "metadata": {},
   "source": [
    "View dataframe of first game played"
   ]
  },
  {
   "cell_type": "code",
   "execution_count": 15,
   "metadata": {
    "collapsed": false
   },
   "outputs": [],
   "source": [
    "fileName = '/data/bkotecha/games/'+steph_game_ids[0]+'.csv'\n",
    "temp_df = pd.read_csv(fileName)"
   ]
  },
  {
   "cell_type": "code",
   "execution_count": 16,
   "metadata": {
    "collapsed": false
   },
   "outputs": [
    {
     "data": {
      "text/html": [
       "<div>\n",
       "<table border=\"1\" class=\"dataframe\">\n",
       "  <thead>\n",
       "    <tr style=\"text-align: right;\">\n",
       "      <th></th>\n",
       "      <th>Unnamed: 0</th>\n",
       "      <th>GAME_ID</th>\n",
       "      <th>EVENTNUM</th>\n",
       "      <th>EVENTMSGTYPE</th>\n",
       "      <th>EVENTMSGACTIONTYPE</th>\n",
       "      <th>PERIOD</th>\n",
       "      <th>WCTIMESTRING</th>\n",
       "      <th>PCTIMESTRING</th>\n",
       "      <th>HOMEDESCRIPTION</th>\n",
       "      <th>NEUTRALDESCRIPTION</th>\n",
       "      <th>...</th>\n",
       "      <th>PLAYER2_TEAM_CITY</th>\n",
       "      <th>PLAYER2_TEAM_NICKNAME</th>\n",
       "      <th>PLAYER2_TEAM_ABBREVIATION</th>\n",
       "      <th>PERSON3TYPE</th>\n",
       "      <th>PLAYER3_ID</th>\n",
       "      <th>PLAYER3_NAME</th>\n",
       "      <th>PLAYER3_TEAM_ID</th>\n",
       "      <th>PLAYER3_TEAM_CITY</th>\n",
       "      <th>PLAYER3_TEAM_NICKNAME</th>\n",
       "      <th>PLAYER3_TEAM_ABBREVIATION</th>\n",
       "    </tr>\n",
       "  </thead>\n",
       "  <tbody>\n",
       "    <tr>\n",
       "      <th>0</th>\n",
       "      <td>0</td>\n",
       "      <td>21400014</td>\n",
       "      <td>0</td>\n",
       "      <td>12</td>\n",
       "      <td>0</td>\n",
       "      <td>1</td>\n",
       "      <td>10:15 PM</td>\n",
       "      <td>12:00</td>\n",
       "      <td>NaN</td>\n",
       "      <td>NaN</td>\n",
       "      <td>...</td>\n",
       "      <td>NaN</td>\n",
       "      <td>NaN</td>\n",
       "      <td>NaN</td>\n",
       "      <td>0</td>\n",
       "      <td>0</td>\n",
       "      <td>NaN</td>\n",
       "      <td>NaN</td>\n",
       "      <td>NaN</td>\n",
       "      <td>NaN</td>\n",
       "      <td>NaN</td>\n",
       "    </tr>\n",
       "    <tr>\n",
       "      <th>1</th>\n",
       "      <td>1</td>\n",
       "      <td>21400014</td>\n",
       "      <td>1</td>\n",
       "      <td>10</td>\n",
       "      <td>0</td>\n",
       "      <td>1</td>\n",
       "      <td>10:16 PM</td>\n",
       "      <td>12:00</td>\n",
       "      <td>Jump Ball Thompson vs. Bogut: Tip to</td>\n",
       "      <td>NaN</td>\n",
       "      <td>...</td>\n",
       "      <td>Golden State</td>\n",
       "      <td>Warriors</td>\n",
       "      <td>GSW</td>\n",
       "      <td>2</td>\n",
       "      <td>1610612758</td>\n",
       "      <td>NaN</td>\n",
       "      <td>NaN</td>\n",
       "      <td>NaN</td>\n",
       "      <td>NaN</td>\n",
       "      <td>NaN</td>\n",
       "    </tr>\n",
       "    <tr>\n",
       "      <th>2</th>\n",
       "      <td>2</td>\n",
       "      <td>21400014</td>\n",
       "      <td>2</td>\n",
       "      <td>2</td>\n",
       "      <td>5</td>\n",
       "      <td>1</td>\n",
       "      <td>10:16 PM</td>\n",
       "      <td>11:43</td>\n",
       "      <td>MISS Cousins 3' Layup</td>\n",
       "      <td>NaN</td>\n",
       "      <td>...</td>\n",
       "      <td>NaN</td>\n",
       "      <td>NaN</td>\n",
       "      <td>NaN</td>\n",
       "      <td>0</td>\n",
       "      <td>0</td>\n",
       "      <td>NaN</td>\n",
       "      <td>NaN</td>\n",
       "      <td>NaN</td>\n",
       "      <td>NaN</td>\n",
       "      <td>NaN</td>\n",
       "    </tr>\n",
       "    <tr>\n",
       "      <th>3</th>\n",
       "      <td>3</td>\n",
       "      <td>21400014</td>\n",
       "      <td>3</td>\n",
       "      <td>4</td>\n",
       "      <td>0</td>\n",
       "      <td>1</td>\n",
       "      <td>10:16 PM</td>\n",
       "      <td>11:41</td>\n",
       "      <td>NaN</td>\n",
       "      <td>NaN</td>\n",
       "      <td>...</td>\n",
       "      <td>NaN</td>\n",
       "      <td>NaN</td>\n",
       "      <td>NaN</td>\n",
       "      <td>0</td>\n",
       "      <td>0</td>\n",
       "      <td>NaN</td>\n",
       "      <td>NaN</td>\n",
       "      <td>NaN</td>\n",
       "      <td>NaN</td>\n",
       "      <td>NaN</td>\n",
       "    </tr>\n",
       "    <tr>\n",
       "      <th>4</th>\n",
       "      <td>4</td>\n",
       "      <td>21400014</td>\n",
       "      <td>4</td>\n",
       "      <td>2</td>\n",
       "      <td>1</td>\n",
       "      <td>1</td>\n",
       "      <td>10:16 PM</td>\n",
       "      <td>11:35</td>\n",
       "      <td>NaN</td>\n",
       "      <td>NaN</td>\n",
       "      <td>...</td>\n",
       "      <td>NaN</td>\n",
       "      <td>NaN</td>\n",
       "      <td>NaN</td>\n",
       "      <td>0</td>\n",
       "      <td>0</td>\n",
       "      <td>NaN</td>\n",
       "      <td>NaN</td>\n",
       "      <td>NaN</td>\n",
       "      <td>NaN</td>\n",
       "      <td>NaN</td>\n",
       "    </tr>\n",
       "  </tbody>\n",
       "</table>\n",
       "<p>5 rows × 34 columns</p>\n",
       "</div>"
      ],
      "text/plain": [
       "   Unnamed: 0   GAME_ID  EVENTNUM  EVENTMSGTYPE  EVENTMSGACTIONTYPE  PERIOD  \\\n",
       "0           0  21400014         0            12                   0       1   \n",
       "1           1  21400014         1            10                   0       1   \n",
       "2           2  21400014         2             2                   5       1   \n",
       "3           3  21400014         3             4                   0       1   \n",
       "4           4  21400014         4             2                   1       1   \n",
       "\n",
       "  WCTIMESTRING PCTIMESTRING                       HOMEDESCRIPTION  \\\n",
       "0     10:15 PM        12:00                                   NaN   \n",
       "1     10:16 PM        12:00  Jump Ball Thompson vs. Bogut: Tip to   \n",
       "2     10:16 PM        11:43                 MISS Cousins 3' Layup   \n",
       "3     10:16 PM        11:41                                   NaN   \n",
       "4     10:16 PM        11:35                                   NaN   \n",
       "\n",
       "   NEUTRALDESCRIPTION            ...            PLAYER2_TEAM_CITY  \\\n",
       "0                 NaN            ...                          NaN   \n",
       "1                 NaN            ...                 Golden State   \n",
       "2                 NaN            ...                          NaN   \n",
       "3                 NaN            ...                          NaN   \n",
       "4                 NaN            ...                          NaN   \n",
       "\n",
       "  PLAYER2_TEAM_NICKNAME PLAYER2_TEAM_ABBREVIATION  PERSON3TYPE  PLAYER3_ID  \\\n",
       "0                   NaN                       NaN            0           0   \n",
       "1              Warriors                       GSW            2  1610612758   \n",
       "2                   NaN                       NaN            0           0   \n",
       "3                   NaN                       NaN            0           0   \n",
       "4                   NaN                       NaN            0           0   \n",
       "\n",
       "  PLAYER3_NAME  PLAYER3_TEAM_ID PLAYER3_TEAM_CITY PLAYER3_TEAM_NICKNAME  \\\n",
       "0          NaN              NaN               NaN                   NaN   \n",
       "1          NaN              NaN               NaN                   NaN   \n",
       "2          NaN              NaN               NaN                   NaN   \n",
       "3          NaN              NaN               NaN                   NaN   \n",
       "4          NaN              NaN               NaN                   NaN   \n",
       "\n",
       "  PLAYER3_TEAM_ABBREVIATION  \n",
       "0                       NaN  \n",
       "1                       NaN  \n",
       "2                       NaN  \n",
       "3                       NaN  \n",
       "4                       NaN  \n",
       "\n",
       "[5 rows x 34 columns]"
      ]
     },
     "execution_count": 16,
     "metadata": {},
     "output_type": "execute_result"
    }
   ],
   "source": [
    "temp_df.head()"
   ]
  },
  {
   "cell_type": "markdown",
   "metadata": {},
   "source": [
    "Most games have about 450-550 events"
   ]
  },
  {
   "cell_type": "code",
   "execution_count": 17,
   "metadata": {
    "collapsed": false
   },
   "outputs": [
    {
     "data": {
      "text/plain": [
       "526"
      ]
     },
     "execution_count": 17,
     "metadata": {},
     "output_type": "execute_result"
    }
   ],
   "source": [
    "len(temp_df)"
   ]
  },
  {
   "cell_type": "markdown",
   "metadata": {},
   "source": [
    "## Manipulating the Data\n",
    "* Convert PCTIMESTRING to seconds\n",
    "* place markers for: end of quarter, steph subbed in, and steph subbed out\n",
    "* add column that indicates time elapsed between consecutive events\n",
    "* keep count of consecutive seconds steph has played at any given event in a game"
   ]
  },
  {
   "cell_type": "markdown",
   "metadata": {},
   "source": [
    "A function to get seconds value of game clock"
   ]
  },
  {
   "cell_type": "code",
   "execution_count": 18,
   "metadata": {
    "collapsed": true
   },
   "outputs": [],
   "source": [
    "def get_sec(s):\n",
    "    l = s.split(':')\n",
    "    return int(l[0]) * 3600 + int(l[1]) * 60 + int(l[2])"
   ]
  },
  {
   "cell_type": "markdown",
   "metadata": {},
   "source": [
    "A function to determine:\n",
    " - Whether GSW is home or away\n",
    " - When Steph is subbed in or out of the game\n",
    " - If an event is the end of the quarter \n",
    " - The seconds elapsed between each game event"
   ]
  },
  {
   "cell_type": "code",
   "execution_count": 19,
   "metadata": {
    "collapsed": true
   },
   "outputs": [],
   "source": [
    "def setupGameDF(game_df):\n",
    "    #check if warriors are home or visitors\n",
    "    if(game_df['PLAYER1_TEAM_CITY'].iloc[1] == 'Golden State'):\n",
    "        game_df['stephSubOut'] = game_df['HOMEDESCRIPTION'].str.contains(\"FOR Curry\",na=False)\n",
    "        game_df['stephSubIn'] = game_df['HOMEDESCRIPTION'].str.contains(\"Curry FOR\",na=False)\n",
    "    else:\n",
    "        game_df['stephSubOut'] = game_df['VISITORDESCRIPTION'].str.contains(\"FOR Curry\",na=False)\n",
    "        game_df['stephSubIn'] = game_df['VISITORDESCRIPTION'].str.contains(\"Curry FOR\",na=False)\n",
    "    \n",
    "    #steph always starts games  \n",
    "    game_df['stephIn'] = True\n",
    "    game_df['stephOut'] = False\n",
    "    game_df.loc[0, 'timeElapsedBetweenEvents'] = 0\n",
    "    game_df['stephConsecutiveSeconds'] = 0\n",
    "    #place marker for end of quarter\n",
    "    game_df['endOfQuarter'] = (game_df['PCTIMESTRING'] == 0)\n",
    "    game_df['timeElapsedBetweenEvents'] = game_df['PCTIMESTRING'].shift(1) - game_df['PCTIMESTRING']"
   ]
  },
  {
   "cell_type": "markdown",
   "metadata": {},
   "source": [
    "A function to get the CSV of a specified game"
   ]
  },
  {
   "cell_type": "code",
   "execution_count": 20,
   "metadata": {
    "collapsed": true
   },
   "outputs": [],
   "source": [
    "def specificGame(steph_game_ids,i):\n",
    "    fileName = \"/data/bkotecha/games/\"\n",
    "    fileName += steph_game_ids[i] +'.csv'\n",
    "    game_df =pd.read_csv(fileName)\n",
    "    return game_df"
   ]
  },
  {
   "cell_type": "markdown",
   "metadata": {},
   "source": [
    "A function to calculate Steph's consecutive seconds played for specified game"
   ]
  },
  {
   "cell_type": "code",
   "execution_count": 21,
   "metadata": {
    "collapsed": true
   },
   "outputs": [],
   "source": [
    "def countConsecutiveSeconds(game_df,stephSecCounter=0):\n",
    "    for index, row in game_df.iterrows():\n",
    "        if(game_df['endOfQuarter'].iloc[index] == True):\n",
    "            game_df.loc[index+1, 'timeElapsedBetweenEvents'] = 0\n",
    "            stephSecCounter = 0 # reset consecutive seconds player counter at end of quarters\n",
    "            if(game_df['PERIOD'].iloc[index] == 3):\n",
    "                row['stephSubIn'] = True\n",
    "        if(game_df['PERIOD'].iloc[index] == 3):\n",
    "            if(game_df['PCTIMESTRING'].iloc[index] == 720):\n",
    "                row = game_df.ix[index:len(game_df)]\n",
    "                row['stephIn'] = True\n",
    "                row = game_df.ix[index:len(game_df)]\n",
    "                row['stephOut'] = False\n",
    "                stephSecCounter = 0 \n",
    "        if(game_df['stephSubOut'].ix[index] ==  True):\n",
    "            row = game_df.ix[index:len(game_df)]\n",
    "            row['stephIn'] = False\n",
    "            row = game_df.ix[index:len(game_df)]\n",
    "            row['stephOut'] = True\n",
    "            stephSecCounter = 0\n",
    "            row = game_df.ix[index:index]\n",
    "            row['stephConsecutiveSeconds'] = stephSecCounter\n",
    "        elif(game_df['stephSubIn'].ix[index] == True):\n",
    "            row = game_df.ix[index:len(game_df)]\n",
    "            row['stephIn'] = True\n",
    "            row = game_df.ix[index:len(game_df)]\n",
    "            row['stephOut'] = False\n",
    "            stephSecCounter = 0\n",
    "        elif(game_df['stephIn'].iloc[index] == True):\n",
    "            stephSecCounter += game_df['timeElapsedBetweenEvents'].iloc[index]\n",
    "            game_df.loc[index, 'stephConsecutiveSeconds'] = stephSecCounter"
   ]
  },
  {
   "cell_type": "markdown",
   "metadata": {},
   "source": [
    "Calculate Steph's Consecutive Seconds Played for every event in each of his 80 games"
   ]
  },
  {
   "cell_type": "code",
   "execution_count": 24,
   "metadata": {
    "collapsed": false
   },
   "outputs": [],
   "source": [
    "for i in range(0,len(steph_game_ids)):\n",
    "    \n",
    "    #get csv of specified game\n",
    "    game_df = specificGame(steph_game_ids,i)\n",
    "    \n",
    "    #fix time formatting \n",
    "    #put game time in HH:MM:SS format\n",
    "    game_df['PCTIMESTRING'] = '00:' + game_df['PCTIMESTRING'].astype(str)\n",
    "    convertToSeconds = lambda x: get_sec(x)\n",
    "    game_df['PCTIMESTRING'] = game_df['PCTIMESTRING'].apply(convertToSeconds)\n",
    "    \n",
    "    #setup game dataframe\n",
    "    setupGameDF(game_df)\n",
    "    \n",
    "    #calculate steph consec seconds\n",
    "    game_df.loc[0, 'timeElapsedBetweenEvents'] = 0\n",
    "    countConsecutiveSeconds(game_df,0)\n",
    "    \n",
    "    #stack game data frames on top of each other to get one DF with all games\n",
    "    if(i == 0):\n",
    "        result = game_df\n",
    "    else:\n",
    "        result = pd.concat([result, game_df], ignore_index=True)"
   ]
  },
  {
   "cell_type": "code",
   "execution_count": 25,
   "metadata": {
    "collapsed": false
   },
   "outputs": [
    {
     "data": {
      "text/plain": [
       "37063"
      ]
     },
     "execution_count": 25,
     "metadata": {},
     "output_type": "execute_result"
    }
   ],
   "source": [
    "len(result)"
   ]
  },
  {
   "cell_type": "code",
   "execution_count": 26,
   "metadata": {
    "collapsed": false
   },
   "outputs": [
    {
     "data": {
      "text/html": [
       "<div>\n",
       "<table border=\"1\" class=\"dataframe\">\n",
       "  <thead>\n",
       "    <tr style=\"text-align: right;\">\n",
       "      <th></th>\n",
       "      <th>Unnamed: 0</th>\n",
       "      <th>GAME_ID</th>\n",
       "      <th>EVENTNUM</th>\n",
       "      <th>EVENTMSGTYPE</th>\n",
       "      <th>EVENTMSGACTIONTYPE</th>\n",
       "      <th>PERIOD</th>\n",
       "      <th>WCTIMESTRING</th>\n",
       "      <th>PCTIMESTRING</th>\n",
       "      <th>HOMEDESCRIPTION</th>\n",
       "      <th>NEUTRALDESCRIPTION</th>\n",
       "      <th>...</th>\n",
       "      <th>PLAYER3_TEAM_CITY</th>\n",
       "      <th>PLAYER3_TEAM_NICKNAME</th>\n",
       "      <th>PLAYER3_TEAM_ABBREVIATION</th>\n",
       "      <th>stephSubOut</th>\n",
       "      <th>stephSubIn</th>\n",
       "      <th>stephIn</th>\n",
       "      <th>stephOut</th>\n",
       "      <th>timeElapsedBetweenEvents</th>\n",
       "      <th>stephConsecutiveSeconds</th>\n",
       "      <th>endOfQuarter</th>\n",
       "    </tr>\n",
       "  </thead>\n",
       "  <tbody>\n",
       "    <tr>\n",
       "      <th>0</th>\n",
       "      <td>0</td>\n",
       "      <td>21400014</td>\n",
       "      <td>0</td>\n",
       "      <td>12</td>\n",
       "      <td>0</td>\n",
       "      <td>1</td>\n",
       "      <td>10:15 PM</td>\n",
       "      <td>720</td>\n",
       "      <td>NaN</td>\n",
       "      <td>NaN</td>\n",
       "      <td>...</td>\n",
       "      <td>NaN</td>\n",
       "      <td>NaN</td>\n",
       "      <td>NaN</td>\n",
       "      <td>False</td>\n",
       "      <td>False</td>\n",
       "      <td>True</td>\n",
       "      <td>False</td>\n",
       "      <td>0</td>\n",
       "      <td>0</td>\n",
       "      <td>False</td>\n",
       "    </tr>\n",
       "    <tr>\n",
       "      <th>1</th>\n",
       "      <td>1</td>\n",
       "      <td>21400014</td>\n",
       "      <td>1</td>\n",
       "      <td>10</td>\n",
       "      <td>0</td>\n",
       "      <td>1</td>\n",
       "      <td>10:16 PM</td>\n",
       "      <td>720</td>\n",
       "      <td>Jump Ball Thompson vs. Bogut: Tip to</td>\n",
       "      <td>NaN</td>\n",
       "      <td>...</td>\n",
       "      <td>NaN</td>\n",
       "      <td>NaN</td>\n",
       "      <td>NaN</td>\n",
       "      <td>False</td>\n",
       "      <td>False</td>\n",
       "      <td>True</td>\n",
       "      <td>False</td>\n",
       "      <td>0</td>\n",
       "      <td>0</td>\n",
       "      <td>False</td>\n",
       "    </tr>\n",
       "    <tr>\n",
       "      <th>2</th>\n",
       "      <td>2</td>\n",
       "      <td>21400014</td>\n",
       "      <td>2</td>\n",
       "      <td>2</td>\n",
       "      <td>5</td>\n",
       "      <td>1</td>\n",
       "      <td>10:16 PM</td>\n",
       "      <td>703</td>\n",
       "      <td>MISS Cousins 3' Layup</td>\n",
       "      <td>NaN</td>\n",
       "      <td>...</td>\n",
       "      <td>NaN</td>\n",
       "      <td>NaN</td>\n",
       "      <td>NaN</td>\n",
       "      <td>False</td>\n",
       "      <td>False</td>\n",
       "      <td>True</td>\n",
       "      <td>False</td>\n",
       "      <td>17</td>\n",
       "      <td>17</td>\n",
       "      <td>False</td>\n",
       "    </tr>\n",
       "    <tr>\n",
       "      <th>3</th>\n",
       "      <td>3</td>\n",
       "      <td>21400014</td>\n",
       "      <td>3</td>\n",
       "      <td>4</td>\n",
       "      <td>0</td>\n",
       "      <td>1</td>\n",
       "      <td>10:16 PM</td>\n",
       "      <td>701</td>\n",
       "      <td>NaN</td>\n",
       "      <td>NaN</td>\n",
       "      <td>...</td>\n",
       "      <td>NaN</td>\n",
       "      <td>NaN</td>\n",
       "      <td>NaN</td>\n",
       "      <td>False</td>\n",
       "      <td>False</td>\n",
       "      <td>True</td>\n",
       "      <td>False</td>\n",
       "      <td>2</td>\n",
       "      <td>19</td>\n",
       "      <td>False</td>\n",
       "    </tr>\n",
       "    <tr>\n",
       "      <th>4</th>\n",
       "      <td>4</td>\n",
       "      <td>21400014</td>\n",
       "      <td>4</td>\n",
       "      <td>2</td>\n",
       "      <td>1</td>\n",
       "      <td>1</td>\n",
       "      <td>10:16 PM</td>\n",
       "      <td>695</td>\n",
       "      <td>NaN</td>\n",
       "      <td>NaN</td>\n",
       "      <td>...</td>\n",
       "      <td>NaN</td>\n",
       "      <td>NaN</td>\n",
       "      <td>NaN</td>\n",
       "      <td>False</td>\n",
       "      <td>False</td>\n",
       "      <td>True</td>\n",
       "      <td>False</td>\n",
       "      <td>6</td>\n",
       "      <td>25</td>\n",
       "      <td>False</td>\n",
       "    </tr>\n",
       "  </tbody>\n",
       "</table>\n",
       "<p>5 rows × 41 columns</p>\n",
       "</div>"
      ],
      "text/plain": [
       "   Unnamed: 0   GAME_ID  EVENTNUM  EVENTMSGTYPE  EVENTMSGACTIONTYPE  PERIOD  \\\n",
       "0           0  21400014         0            12                   0       1   \n",
       "1           1  21400014         1            10                   0       1   \n",
       "2           2  21400014         2             2                   5       1   \n",
       "3           3  21400014         3             4                   0       1   \n",
       "4           4  21400014         4             2                   1       1   \n",
       "\n",
       "  WCTIMESTRING  PCTIMESTRING                       HOMEDESCRIPTION  \\\n",
       "0     10:15 PM           720                                   NaN   \n",
       "1     10:16 PM           720  Jump Ball Thompson vs. Bogut: Tip to   \n",
       "2     10:16 PM           703                 MISS Cousins 3' Layup   \n",
       "3     10:16 PM           701                                   NaN   \n",
       "4     10:16 PM           695                                   NaN   \n",
       "\n",
       "   NEUTRALDESCRIPTION     ...      PLAYER3_TEAM_CITY PLAYER3_TEAM_NICKNAME  \\\n",
       "0                 NaN     ...                    NaN                   NaN   \n",
       "1                 NaN     ...                    NaN                   NaN   \n",
       "2                 NaN     ...                    NaN                   NaN   \n",
       "3                 NaN     ...                    NaN                   NaN   \n",
       "4                 NaN     ...                    NaN                   NaN   \n",
       "\n",
       "  PLAYER3_TEAM_ABBREVIATION  stephSubOut  stephSubIn stephIn  stephOut  \\\n",
       "0                       NaN        False       False    True     False   \n",
       "1                       NaN        False       False    True     False   \n",
       "2                       NaN        False       False    True     False   \n",
       "3                       NaN        False       False    True     False   \n",
       "4                       NaN        False       False    True     False   \n",
       "\n",
       "  timeElapsedBetweenEvents stephConsecutiveSeconds endOfQuarter  \n",
       "0                        0                       0        False  \n",
       "1                        0                       0        False  \n",
       "2                       17                      17        False  \n",
       "3                        2                      19        False  \n",
       "4                        6                      25        False  \n",
       "\n",
       "[5 rows x 41 columns]"
      ]
     },
     "execution_count": 26,
     "metadata": {},
     "output_type": "execute_result"
    }
   ],
   "source": [
    "result.head()"
   ]
  },
  {
   "cell_type": "markdown",
   "metadata": {},
   "source": [
    "Now lets merge the events table with Steph Curry's shots table "
   ]
  },
  {
   "cell_type": "code",
   "execution_count": 27,
   "metadata": {
    "collapsed": false
   },
   "outputs": [
    {
     "data": {
      "text/plain": [
       "1341"
      ]
     },
     "execution_count": 27,
     "metadata": {},
     "output_type": "execute_result"
    }
   ],
   "source": [
    "curry_shots = pd.read_csv('/data/bkotecha/curryShots.csv')\n",
    "#rename game_event_id to eventnum\n",
    "curry_shots=curry_shots.rename(columns = {'GAME_EVENT_ID':'EVENTNUM'})\n",
    "len(curry_shots)"
   ]
  },
  {
   "cell_type": "code",
   "execution_count": 28,
   "metadata": {
    "collapsed": false
   },
   "outputs": [
    {
     "data": {
      "text/plain": [
       "1341"
      ]
     },
     "execution_count": 28,
     "metadata": {},
     "output_type": "execute_result"
    }
   ],
   "source": [
    "final_df = pd.merge(curry_shots, result, on=['GAME_ID', 'EVENTNUM'])\n",
    "len(final_df)"
   ]
  },
  {
   "cell_type": "markdown",
   "metadata": {},
   "source": [
    "Check if there are any shots with seconds played value of 0"
   ]
  },
  {
   "cell_type": "code",
   "execution_count": 29,
   "metadata": {
    "collapsed": false
   },
   "outputs": [
    {
     "data": {
      "text/plain": [
       "53"
      ]
     },
     "execution_count": 29,
     "metadata": {},
     "output_type": "execute_result"
    }
   ],
   "source": [
    "len(final_df[final_df['stephConsecutiveSeconds'] == 0])"
   ]
  },
  {
   "cell_type": "markdown",
   "metadata": {},
   "source": [
    "Sometimes Steph gets subbed into the game at the start of the 2nd or 4th quarter. These substitions do not show up on the play by play game log. There were 53 such shots where his consecutive seconds played was 0. To address this for any shots that had a time played value of 0, I subtracted the current seconds left in the quarter from the starting point of a quarter (720 seconds)."
   ]
  },
  {
   "cell_type": "code",
   "execution_count": 30,
   "metadata": {
    "collapsed": false
   },
   "outputs": [
    {
     "data": {
      "text/plain": [
       "0"
      ]
     },
     "execution_count": 30,
     "metadata": {},
     "output_type": "execute_result"
    }
   ],
   "source": [
    "for index, row in final_df.iterrows():\n",
    "    if(final_df['stephConsecutiveSeconds'].iloc[index] == 0):\n",
    "        final_df.loc[index, 'stephConsecutiveSeconds'] = 720 - final_df['PCTIMESTRING'].iloc[index]\n",
    "\n",
    "len(final_df[final_df['stephConsecutiveSeconds'] == 0])"
   ]
  },
  {
   "cell_type": "code",
   "execution_count": 31,
   "metadata": {
    "collapsed": false
   },
   "outputs": [
    {
     "data": {
      "text/html": [
       "<div>\n",
       "<table border=\"1\" class=\"dataframe\">\n",
       "  <thead>\n",
       "    <tr style=\"text-align: right;\">\n",
       "      <th></th>\n",
       "      <th>Unnamed: 0_x</th>\n",
       "      <th>GRID_TYPE</th>\n",
       "      <th>GAME_ID</th>\n",
       "      <th>EVENTNUM</th>\n",
       "      <th>PLAYER_ID</th>\n",
       "      <th>PLAYER_NAME</th>\n",
       "      <th>TEAM_ID</th>\n",
       "      <th>TEAM_NAME</th>\n",
       "      <th>PERIOD_x</th>\n",
       "      <th>MINUTES_REMAINING</th>\n",
       "      <th>...</th>\n",
       "      <th>PLAYER3_TEAM_CITY</th>\n",
       "      <th>PLAYER3_TEAM_NICKNAME</th>\n",
       "      <th>PLAYER3_TEAM_ABBREVIATION</th>\n",
       "      <th>stephSubOut</th>\n",
       "      <th>stephSubIn</th>\n",
       "      <th>stephIn</th>\n",
       "      <th>stephOut</th>\n",
       "      <th>timeElapsedBetweenEvents</th>\n",
       "      <th>stephConsecutiveSeconds</th>\n",
       "      <th>endOfQuarter</th>\n",
       "    </tr>\n",
       "  </thead>\n",
       "  <tbody>\n",
       "    <tr>\n",
       "      <th>0</th>\n",
       "      <td>2166</td>\n",
       "      <td>Shot Chart Detail</td>\n",
       "      <td>21400014</td>\n",
       "      <td>50</td>\n",
       "      <td>201939</td>\n",
       "      <td>Stephen Curry</td>\n",
       "      <td>1610612744</td>\n",
       "      <td>Golden State Warriors</td>\n",
       "      <td>1</td>\n",
       "      <td>7</td>\n",
       "      <td>...</td>\n",
       "      <td>NaN</td>\n",
       "      <td>NaN</td>\n",
       "      <td>NaN</td>\n",
       "      <td>False</td>\n",
       "      <td>False</td>\n",
       "      <td>True</td>\n",
       "      <td>False</td>\n",
       "      <td>9</td>\n",
       "      <td>271</td>\n",
       "      <td>False</td>\n",
       "    </tr>\n",
       "    <tr>\n",
       "      <th>1</th>\n",
       "      <td>2174</td>\n",
       "      <td>Shot Chart Detail</td>\n",
       "      <td>21400014</td>\n",
       "      <td>74</td>\n",
       "      <td>201939</td>\n",
       "      <td>Stephen Curry</td>\n",
       "      <td>1610612744</td>\n",
       "      <td>Golden State Warriors</td>\n",
       "      <td>1</td>\n",
       "      <td>5</td>\n",
       "      <td>...</td>\n",
       "      <td>NaN</td>\n",
       "      <td>NaN</td>\n",
       "      <td>NaN</td>\n",
       "      <td>False</td>\n",
       "      <td>False</td>\n",
       "      <td>True</td>\n",
       "      <td>False</td>\n",
       "      <td>7</td>\n",
       "      <td>411</td>\n",
       "      <td>False</td>\n",
       "    </tr>\n",
       "    <tr>\n",
       "      <th>2</th>\n",
       "      <td>2206</td>\n",
       "      <td>Shot Chart Detail</td>\n",
       "      <td>21400014</td>\n",
       "      <td>176</td>\n",
       "      <td>201939</td>\n",
       "      <td>Stephen Curry</td>\n",
       "      <td>1610612744</td>\n",
       "      <td>Golden State Warriors</td>\n",
       "      <td>2</td>\n",
       "      <td>8</td>\n",
       "      <td>...</td>\n",
       "      <td>NaN</td>\n",
       "      <td>NaN</td>\n",
       "      <td>NaN</td>\n",
       "      <td>False</td>\n",
       "      <td>False</td>\n",
       "      <td>True</td>\n",
       "      <td>False</td>\n",
       "      <td>12</td>\n",
       "      <td>12</td>\n",
       "      <td>False</td>\n",
       "    </tr>\n",
       "    <tr>\n",
       "      <th>3</th>\n",
       "      <td>2210</td>\n",
       "      <td>Shot Chart Detail</td>\n",
       "      <td>21400014</td>\n",
       "      <td>205</td>\n",
       "      <td>201939</td>\n",
       "      <td>Stephen Curry</td>\n",
       "      <td>1610612744</td>\n",
       "      <td>Golden State Warriors</td>\n",
       "      <td>2</td>\n",
       "      <td>6</td>\n",
       "      <td>...</td>\n",
       "      <td>NaN</td>\n",
       "      <td>NaN</td>\n",
       "      <td>NaN</td>\n",
       "      <td>False</td>\n",
       "      <td>False</td>\n",
       "      <td>True</td>\n",
       "      <td>False</td>\n",
       "      <td>5</td>\n",
       "      <td>138</td>\n",
       "      <td>False</td>\n",
       "    </tr>\n",
       "    <tr>\n",
       "      <th>4</th>\n",
       "      <td>2214</td>\n",
       "      <td>Shot Chart Detail</td>\n",
       "      <td>21400014</td>\n",
       "      <td>227</td>\n",
       "      <td>201939</td>\n",
       "      <td>Stephen Curry</td>\n",
       "      <td>1610612744</td>\n",
       "      <td>Golden State Warriors</td>\n",
       "      <td>2</td>\n",
       "      <td>5</td>\n",
       "      <td>...</td>\n",
       "      <td>NaN</td>\n",
       "      <td>NaN</td>\n",
       "      <td>NaN</td>\n",
       "      <td>False</td>\n",
       "      <td>False</td>\n",
       "      <td>True</td>\n",
       "      <td>False</td>\n",
       "      <td>6</td>\n",
       "      <td>205</td>\n",
       "      <td>False</td>\n",
       "    </tr>\n",
       "  </tbody>\n",
       "</table>\n",
       "<p>5 rows × 61 columns</p>\n",
       "</div>"
      ],
      "text/plain": [
       "   Unnamed: 0_x          GRID_TYPE   GAME_ID  EVENTNUM  PLAYER_ID  \\\n",
       "0          2166  Shot Chart Detail  21400014        50     201939   \n",
       "1          2174  Shot Chart Detail  21400014        74     201939   \n",
       "2          2206  Shot Chart Detail  21400014       176     201939   \n",
       "3          2210  Shot Chart Detail  21400014       205     201939   \n",
       "4          2214  Shot Chart Detail  21400014       227     201939   \n",
       "\n",
       "     PLAYER_NAME     TEAM_ID              TEAM_NAME  PERIOD_x  \\\n",
       "0  Stephen Curry  1610612744  Golden State Warriors         1   \n",
       "1  Stephen Curry  1610612744  Golden State Warriors         1   \n",
       "2  Stephen Curry  1610612744  Golden State Warriors         2   \n",
       "3  Stephen Curry  1610612744  Golden State Warriors         2   \n",
       "4  Stephen Curry  1610612744  Golden State Warriors         2   \n",
       "\n",
       "   MINUTES_REMAINING      ...       PLAYER3_TEAM_CITY PLAYER3_TEAM_NICKNAME  \\\n",
       "0                  7      ...                     NaN                   NaN   \n",
       "1                  5      ...                     NaN                   NaN   \n",
       "2                  8      ...                     NaN                   NaN   \n",
       "3                  6      ...                     NaN                   NaN   \n",
       "4                  5      ...                     NaN                   NaN   \n",
       "\n",
       "  PLAYER3_TEAM_ABBREVIATION stephSubOut stephSubIn stephIn stephOut  \\\n",
       "0                       NaN       False      False    True    False   \n",
       "1                       NaN       False      False    True    False   \n",
       "2                       NaN       False      False    True    False   \n",
       "3                       NaN       False      False    True    False   \n",
       "4                       NaN       False      False    True    False   \n",
       "\n",
       "   timeElapsedBetweenEvents  stephConsecutiveSeconds  endOfQuarter  \n",
       "0                         9                      271         False  \n",
       "1                         7                      411         False  \n",
       "2                        12                       12         False  \n",
       "3                         5                      138         False  \n",
       "4                         6                      205         False  \n",
       "\n",
       "[5 rows x 61 columns]"
      ]
     },
     "execution_count": 31,
     "metadata": {},
     "output_type": "execute_result"
    }
   ],
   "source": [
    "final_df.head()"
   ]
  },
  {
   "cell_type": "markdown",
   "metadata": {},
   "source": [
    "Save final dataframe for use in other notebooks"
   ]
  },
  {
   "cell_type": "code",
   "execution_count": 32,
   "metadata": {
    "collapsed": true
   },
   "outputs": [],
   "source": [
    "final_df.to_csv('/data/bkotecha/final_df.csv')"
   ]
  }
 ],
 "metadata": {
  "kernelspec": {
   "display_name": "Python 3",
   "language": "python",
   "name": "python3"
  },
  "language_info": {
   "codemirror_mode": {
    "name": "ipython",
    "version": 3
   },
   "file_extension": ".py",
   "mimetype": "text/x-python",
   "name": "python",
   "nbconvert_exporter": "python",
   "pygments_lexer": "ipython3",
   "version": "3.4.3"
  }
 },
 "nbformat": 4,
 "nbformat_minor": 0
}
